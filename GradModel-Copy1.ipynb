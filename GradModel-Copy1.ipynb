{
 "cells": [
  {
   "cell_type": "code",
   "execution_count": 1,
   "id": "eebbf5f3",
   "metadata": {},
   "outputs": [],
   "source": [
    "import numpy as np\n",
    "import pandas as pd\n",
    "import bamboolib as bam\n",
    "\n",
    "#Mergleme işmeinde kaldık ancak öncesinde genel veri ile alakalı plotlar vs çizdir onları kaydet foto olarak göstermelik\n",
    "\n",
    "\n",
    "# index 659 dan itibaren 1. de sil"
   ]
  },
  {
   "cell_type": "code",
   "execution_count": 2,
   "id": "edb87f17",
   "metadata": {},
   "outputs": [
    {
     "data": {
      "application/vnd.jupyter.widget-view+json": {
       "model_id": "249b5d0b55734c77afbcadef8979caf2"
      },
      "text/plain": [
       "       MarkaAdi Modeladi        Renk       Hiz MaxTork  Silindir  Depo  \\\n",
       "0          Ford   Fiesta   Gümüş Gri  167 Km/h     124       4.0  45.0   \n",
       "1       Peugeot      206   Açık Sarı  172 Km/h     120       4.0  50.0   \n",
       "2       HYUNDAİ     Getz        Mavi  166 Km/h     119       4.0  45.0   \n",
       "3          Audi       A6        Mavi  240 Km/h     450       6.0  80.0   \n",
       "4          Ford   Fusion  Aytozu Gri  176 Km/h     146       4.0  45.0   \n",
       "..          ...      ...         ...       ...     ...       ...   ...   \n",
       "653  Volkswagen     Polo       Siyah  175 Km/h     230       4.0  40.0   \n",
       "654  Volkswagen     Polo     Turuncu  170 Km/h      95       3.0  40.0   \n",
       "655  Volkswagen     Polo       Siyah  175 Km/h     230       4.0  40.0   \n",
       "656  Volkswagen     Polo       Beyaz  175 Km/h     230       4.0  40.0   \n",
       "658  Volkswagen     Polo       Beyaz  170 Km/h      95       3.0  40.0   \n",
       "\n",
       "     Tuketim  Sübap                                     Guvenlik Group  ...  \\\n",
       "0        8.6   16.0  [{\"Guvenlik Group\":\"Güvenlik DonanımlarıImmobi...  ...   \n",
       "1        8.4    8.0  [{\"Guvenlik Group\":\"Güvenlik DonanımlarıABS Fr...  ...   \n",
       "2        NaN   12.0  [{\"Guvenlik Group\":\"Güvenlik DonanımlarıImmobi...  ...   \n",
       "3       11.9   24.0  [{\"Guvenlik Group\":\"Güvenlik DonanımlarıABS Fr...  ...   \n",
       "4       10.3   16.0  [{\"Guvenlik Group\":\"Güvenlik DonanımlarıABS Fr...  ...   \n",
       "..       ...    ...                                                ...  ...   \n",
       "653      4.5   16.0  [{\"Guvenlik Group\":\"Güvenlik DonanımlarıABS Fr...  ...   \n",
       "654      4.1   12.0  [{\"Guvenlik Group\":\"Güvenlik DonanımlarıABS Fr...  ...   \n",
       "655      4.5   16.0  [{\"Guvenlik Group\":\"Güvenlik DonanımlarıABS Fr...  ...   \n",
       "656      4.5   16.0  [{\"Guvenlik Group\":\"Güvenlik DonanımlarıABS Fr...  ...   \n",
       "658      4.1   12.0  [{\"Guvenlik Group\":\"Güvenlik DonanımlarıABS Fr...  ...   \n",
       "\n",
       "     Rehin_Durum Haciz_Durum Tsi(Turbo Supercharger Injection)   Yakit  \\\n",
       "0           Yok*        Yok*                            1.4 Lt  Benzin   \n",
       "1           Yok*        Yok*                            1.4 Lt  Benzin   \n",
       "2           Yok*        Yok*                            1.3 Lt     LPG   \n",
       "3           Yok*        Yok*                              3 Lt   Dizel   \n",
       "4           Yok*        Yok*                            1.6 Lt  Benzin   \n",
       "..           ...         ...                               ...     ...   \n",
       "653         Yok*        Yok*                            1.6 Lt   Dizel   \n",
       "654         Yok*        Yok*                              1 Lt  Benzin   \n",
       "655         Yok*        Yok*                            1.6 Lt   Dizel   \n",
       "656         Yok*        Yok*                            1.6 Lt   Dizel   \n",
       "658         Yok*        Yok*                              1 Lt  Benzin   \n",
       "\n",
       "     Sanziman Max_Güc              Garanti      Aktarma Konum_sehir   Fiyat  \n",
       "0      Manuel   80 Hp           Garantisiz  Önden Çekiş      Ankara  210000  \n",
       "1      Manuel   75 Hp           Garantisiz  Önden Çekiş       Adana  170000  \n",
       "2      Manuel   70 Hp           Garantisiz  Önden Çekiş     Kayseri  285000  \n",
       "3    Otomatik  225 Hp           Garantisiz          4x4    İstanbul  680000  \n",
       "4    Otomatik  100 Hp           Garantisiz  Önden Çekiş      Samsun  286750  \n",
       "..        ...     ...                  ...          ...         ...     ...  \n",
       "653    Manuel   80 Hp           Garantisiz  Önden Çekiş    İstanbul  387500  \n",
       "654    Manuel   75 Hp           Garantisiz  Önden Çekiş    İstanbul  390000  \n",
       "655    Manuel   80 Hp           Garantisiz  Önden Çekiş    İstanbul  394500  \n",
       "656    Manuel   80 Hp  3 Aylık DOD Garanti  Önden Çekiş       İzmir  395000  \n",
       "658    Manuel   75 Hp           Garantisiz  Önden Çekiş    İstanbul  400000  \n",
       "\n",
       "[637 rows x 23 columns]"
      ]
     },
     "metadata": {},
     "output_type": "display_data"
    }
   ],
   "source": [
    "#as we might see if \"Modeladi\" is null other values are null as well.The internet connection may cause this problem while scrapping from Website\n",
    "df1 = pd.read_csv(\"/home/myavuz/Desktop/Uni/Grad/dod[81-145].csv\")\n",
    "\n",
    "# Step: Drop columns\n",
    "df1 = df1.drop(columns=['web-scraper-order'])\n",
    "\n",
    "# Step: Drop columns\n",
    "df1 = df1.drop(columns=['linkgetter'])\n",
    "\n",
    "# Step: Manipulate strings of 'Fiyat' via Find '₺' and Replace with ''\n",
    "df1[\"Fiyat\"] = df1[\"Fiyat\"].str.replace('₺', '', regex=False)\n",
    "# Step: Manipulate strings of '.' via Find '₺' and Replace with ''\n",
    "df1[\"Fiyat\"] = df1[\"Fiyat\"].str.replace('.', '', regex=False)\n",
    "\n",
    "# Step: Change data type of Fiyat to Integer\n",
    "df1['Fiyat'] = df1['Fiyat'].astype('Int64')\n",
    "Roll = [i for i in range(len(df1))]\n",
    "df1[\"RowIndex\"] =Roll\n",
    "\n",
    "\n",
    "# Step: Drop rows where RowIndex >= 659\n",
    "df1 = df1.loc[~(df1['RowIndex'] >= 659)]\n",
    "\n",
    "# Step: Drop rows where Modeladi is missing\n",
    "df1 = df1.loc[~(df1['Modeladi'].isna())]\n",
    "\n",
    "# Step: Drop columns\n",
    "df1 = df1.drop(columns=['web-scraper-start-url', 'linkgetter-href', 'RowIndex','Konum_detay'])\n",
    "\n",
    "df1"
   ]
  },
  {
   "cell_type": "code",
   "execution_count": 3,
   "id": "13714e55",
   "metadata": {},
   "outputs": [
    {
     "data": {
      "application/vnd.jupyter.widget-view+json": {
       "model_id": "0f4e2208a1244458ad4bb027b0f54308"
      },
      "text/plain": [
       "        MarkaAdi Modeladi        Renk       Hiz MaxTork  Silindir  Depo  \\\n",
       "0     Volkswagen     Polo     Fildişi  170 Km/h      95       3.0  40.0   \n",
       "1     Volkswagen     Polo  Uranüs Gri  175 Km/h     230       4.0  40.0   \n",
       "2     Volkswagen     Polo   Saf Beyaz  175 Km/h     230       4.0  40.0   \n",
       "3     Volkswagen     Polo       Beyaz  185 Km/h     250       4.0  40.0   \n",
       "4     Volkswagen     Polo       Beyaz  187 Km/h     175       3.0  40.0   \n",
       "...          ...      ...         ...       ...     ...       ...   ...   \n",
       "1512  Volkswagen     Polo       Siyah  175 Km/h     230       4.0  40.0   \n",
       "1513  Volkswagen     Polo     Turuncu  170 Km/h      95       3.0  40.0   \n",
       "1514  Volkswagen     Polo       Siyah  175 Km/h     230       4.0  40.0   \n",
       "1515  Volkswagen     Polo       Beyaz  175 Km/h     230       4.0  40.0   \n",
       "1516  Volkswagen     Polo       Beyaz  170 Km/h      95       3.0  40.0   \n",
       "\n",
       "      Tuketim  Sübap                                     Guvenlik Group  ...  \\\n",
       "0         4.1   12.0  [{\"Guvenlik Group\":\"Güvenlik DonanımlarıABS Fr...  ...   \n",
       "1         4.5   16.0  [{\"Guvenlik Group\":\"Güvenlik DonanımlarıABS Fr...  ...   \n",
       "2         4.5   16.0  [{\"Guvenlik Group\":\"Güvenlik DonanımlarıABS Fr...  ...   \n",
       "3         4.5   16.0  [{\"Guvenlik Group\":\"Güvenlik DonanımlarıABS Fr...  ...   \n",
       "4         5.8   12.0  [{\"Guvenlik Group\":\"Güvenlik DonanımlarıABS Fr...  ...   \n",
       "...       ...    ...                                                ...  ...   \n",
       "1512      4.5   16.0  [{\"Guvenlik Group\":\"Güvenlik DonanımlarıABS Fr...  ...   \n",
       "1513      4.1   12.0  [{\"Guvenlik Group\":\"Güvenlik DonanımlarıABS Fr...  ...   \n",
       "1514      4.5   16.0  [{\"Guvenlik Group\":\"Güvenlik DonanımlarıABS Fr...  ...   \n",
       "1515      4.5   16.0  [{\"Guvenlik Group\":\"Güvenlik DonanımlarıABS Fr...  ...   \n",
       "1516      4.1   12.0  [{\"Guvenlik Group\":\"Güvenlik DonanımlarıABS Fr...  ...   \n",
       "\n",
       "      Rehin_Durum Haciz_Durum Tsi(Turbo Supercharger Injection)   Yakit  \\\n",
       "0            Yok*        Yok*                              1 Lt  Benzin   \n",
       "1            Yok*        Yok*                            1.6 Lt   Dizel   \n",
       "2            Yok*        Yok*                            1.6 Lt   Dizel   \n",
       "3            Yok*        Yok*                            1.6 Lt   Dizel   \n",
       "4            Yok*        Yok*                              1 Lt  Benzin   \n",
       "...           ...         ...                               ...     ...   \n",
       "1512         Yok*        Yok*                            1.6 Lt   Dizel   \n",
       "1513         Yok*        Yok*                              1 Lt  Benzin   \n",
       "1514         Yok*        Yok*                            1.6 Lt   Dizel   \n",
       "1515         Yok*        Yok*                            1.6 Lt   Dizel   \n",
       "1516         Yok*        Yok*                              1 Lt  Benzin   \n",
       "\n",
       "      Sanziman Max_Güc              Garanti      Aktarma Konum_sehir   Fiyat  \n",
       "0       Manuel   75 Hp  3 Aylık DOD Garanti  Önden Çekiş       Hatay  400000  \n",
       "1       Manuel   80 Hp           Garantisiz  Önden Çekiş    İstanbul  411500  \n",
       "2       Manuel   80 Hp           Garantisiz  Önden Çekiş       Çorum  415000  \n",
       "3     Otomatik   95 Hp  3 Aylık DOD Garanti  Önden Çekiş    İstanbul  445000  \n",
       "4     Otomatik   95 Hp           Garantisiz  Önden Çekiş    İstanbul  450000  \n",
       "...        ...     ...                  ...          ...         ...     ...  \n",
       "1512    Manuel   80 Hp           Garantisiz  Önden Çekiş    İstanbul  387500  \n",
       "1513    Manuel   75 Hp           Garantisiz  Önden Çekiş    İstanbul  390000  \n",
       "1514    Manuel   80 Hp           Garantisiz  Önden Çekiş    İstanbul  394500  \n",
       "1515    Manuel   80 Hp  3 Aylık DOD Garanti  Önden Çekiş       İzmir  395000  \n",
       "1516    Manuel   75 Hp           Garantisiz  Önden Çekiş    İstanbul  400000  \n",
       "\n",
       "[1517 rows x 23 columns]"
      ]
     },
     "metadata": {},
     "output_type": "display_data"
    }
   ],
   "source": [
    "df2 = pd.read_csv(\"/home/myavuz/Desktop/Uni/Grad/dod (1).csv\")\n",
    "# Step: Drop columns\n",
    "df2 = df2.drop(columns=['web-scraper-order'])\n",
    "\n",
    "# Step: Drop columns\n",
    "df2 = df2.drop(columns=['linkgetter'])\n",
    "\n",
    "# Step: Manipulate strings of 'Fiyat' via Find '₺' and Replace with ''\n",
    "df2[\"Fiyat\"] = df2[\"Fiyat\"].str.replace('₺', '', regex=False)\n",
    "# Step: Manipulate strings of '.' via Find '₺' and Replace with ''\n",
    "df2[\"Fiyat\"] = df2[\"Fiyat\"].str.replace('.', '', regex=False)\n",
    "\n",
    "# Step: Change data type of Fiyat to Integer\n",
    "df2['Fiyat'] = df2['Fiyat'].astype('Int64')\n",
    "\n",
    "# Step: Drop rows where Modeladi is missing\n",
    "df2 = df2.loc[~(df2['Modeladi'].isna())]\n",
    "\n",
    "# Step: Drop columns\n",
    "df2 = df2.drop(columns=['web-scraper-start-url', 'linkgetter-href','Konum_detay'])\n",
    "\n",
    "# Step: Change data type of Silindir to Object\n",
    "df2['Silindir'] = df2['Silindir'].astype('object')\n",
    "\n",
    "import pandas as pd; import numpy as np\n",
    "# Step: Change data type of Silindir to Float\n",
    "df2['Silindir'] = pd.to_numeric(df2['Silindir'], downcast='float', errors='coerce')\n",
    "\n",
    "# Step: Change data type of Depo to Float\n",
    "df2['Depo'] = pd.to_numeric(df2['Depo'], downcast='float', errors='coerce')\n",
    "\n",
    "# Step: Change data type of Tuketim to Float\n",
    "df2['Tuketim'] = pd.to_numeric(df2['Tuketim'], downcast='float', errors='coerce')\n",
    "\n",
    "# Step: Change data type of Sübap to Float\n",
    "df2['Sübap'] = pd.to_numeric(df2['Sübap'], downcast='float', errors='coerce')\n",
    "\n",
    "# Step: Left Join with df1 where Modeladi=Modeladi, MaxTork=MaxTork, Kasa_Tipi=Kasa_Tipi, Haciz_Durum=Haciz_Durum, Yakit=Yakit, Depo=Depo, Aktarma=Aktarma, Rehin_Durum=Rehin_Durum, Sübap=Sübap, Tuketim=Tuketim, Model_Yili=Model_Yili, MarkaAdi=MarkaAdi, Fiyat=Fiyat, Silindir=Silindir, Guvenlik Group=Guvenlik Group, Tsi(Turbo Supercharger Injection)=Tsi(Turbo Supercharger Injection), Max_Güc=Max_Güc, Renk=Renk, Garanti=Garanti, Konum_sehir=Konum_sehir, Sanziman=Sanziman, Hiz=Hiz, Konfor Group=Konfor Group\n",
    "df = pd.merge(df2, df1, how='outer', on=['Modeladi', 'MaxTork', 'Kasa_Tipi', 'Haciz_Durum', 'Yakit', 'Depo', 'Aktarma', 'Rehin_Durum', 'Sübap', 'Tuketim', 'Model_Yili', 'MarkaAdi', 'Fiyat', 'Silindir', 'Guvenlik Group', 'Tsi(Turbo Supercharger Injection)', 'Max_Güc', 'Renk', 'Garanti', 'Konum_sehir', 'Sanziman', 'Hiz', 'Konfor Group'])\n",
    "\n",
    "df"
   ]
  },
  {
   "cell_type": "code",
   "execution_count": 4,
   "id": "0bd39f2b",
   "metadata": {},
   "outputs": [],
   "source": [
    "#df şuan başlangıç hali üstteki hali,hiç haciz ve rehin durumu yok dolayısıyla o columnları düşerecem\n",
    "\n",
    "#güvenlikGroup için ayrı bi fonksiyon yazıcam bu kaç tane özellik olduğunu direk sayı olarak yazacak yerine \n",
    "#KonforGroup için de aynısı geçerli\n",
    "#Bölge konusunda İstanbul ayrı Ankara ayrı İZmir ayrı kategori kalanlar iç anadolu vs die ayrılabilir \n",
    "#Garanti olayı Garantisiz ,0-1 Sene Garantili,1 seneden uzun garantili olarak ayrılabilir\n",
    "# Step: Drop columns\n",
    "df = df.drop(columns=['Haciz_Durum', 'Rehin_Durum'])"
   ]
  },
  {
   "cell_type": "code",
   "execution_count": 5,
   "id": "fcbc42c7",
   "metadata": {},
   "outputs": [
    {
     "data": {
      "application/vnd.jupyter.widget-view+json": {
       "model_id": "29615dd17fc74986897c3aedad4d7693"
      },
      "text/plain": [
       "        MarkaAdi Modeladi        Renk   Hiz MaxTork  Silindir  Depo  Tuketim  \\\n",
       "0     Volkswagen     Polo     Fildişi  170       95       3.0  40.0      4.1   \n",
       "1     Volkswagen     Polo  Uranüs Gri  175      230       4.0  40.0      4.5   \n",
       "2     Volkswagen     Polo   Saf Beyaz  175      230       4.0  40.0      4.5   \n",
       "3     Volkswagen     Polo       Beyaz  185      250       4.0  40.0      4.5   \n",
       "4     Volkswagen     Polo       Beyaz  187      175       3.0  40.0      5.8   \n",
       "...          ...      ...         ...   ...     ...       ...   ...      ...   \n",
       "1512  Volkswagen     Polo       Siyah  175      230       4.0  40.0      4.5   \n",
       "1513  Volkswagen     Polo     Turuncu  170       95       3.0  40.0      4.1   \n",
       "1514  Volkswagen     Polo       Siyah  175      230       4.0  40.0      4.5   \n",
       "1515  Volkswagen     Polo       Beyaz  175      230       4.0  40.0      4.5   \n",
       "1516  Volkswagen     Polo       Beyaz  170       95       3.0  40.0      4.1   \n",
       "\n",
       "      Sübap                                     Guvenlik Group  ...  \\\n",
       "0      12.0  [{\"Guvenlik Group\":\"Güvenlik DonanımlarıABS Fr...  ...   \n",
       "1      16.0  [{\"Guvenlik Group\":\"Güvenlik DonanımlarıABS Fr...  ...   \n",
       "2      16.0  [{\"Guvenlik Group\":\"Güvenlik DonanımlarıABS Fr...  ...   \n",
       "3      16.0  [{\"Guvenlik Group\":\"Güvenlik DonanımlarıABS Fr...  ...   \n",
       "4      12.0  [{\"Guvenlik Group\":\"Güvenlik DonanımlarıABS Fr...  ...   \n",
       "...     ...                                                ...  ...   \n",
       "1512   16.0  [{\"Guvenlik Group\":\"Güvenlik DonanımlarıABS Fr...  ...   \n",
       "1513   12.0  [{\"Guvenlik Group\":\"Güvenlik DonanımlarıABS Fr...  ...   \n",
       "1514   16.0  [{\"Guvenlik Group\":\"Güvenlik DonanımlarıABS Fr...  ...   \n",
       "1515   16.0  [{\"Guvenlik Group\":\"Güvenlik DonanımlarıABS Fr...  ...   \n",
       "1516   12.0  [{\"Guvenlik Group\":\"Güvenlik DonanımlarıABS Fr...  ...   \n",
       "\n",
       "      Kasa_Tipi                                       Konfor Group  \\\n",
       "0     Hatchback  [{\"Konfor Group\":\"Konfor Aksesuarları6 Hoparlö...   \n",
       "1     Hatchback  [{\"Konfor Group\":\"Konfor Aksesuarları6 Hoparlö...   \n",
       "2     Hatchback  [{\"Konfor Group\":\"Konfor Aksesuarları6 Hoparlö...   \n",
       "3     Hatchback  [{\"Konfor Group\":\"Konfor Aksesuarları6 Hoparlö...   \n",
       "4     Hatchback  [{\"Konfor Group\":\"Konfor Aksesuarları6 Hoparlö...   \n",
       "...         ...                                                ...   \n",
       "1512  Hatchback  [{\"Konfor Group\":\"Konfor Aksesuarları6 Hoparlö...   \n",
       "1513  Hatchback  [{\"Konfor Group\":\"Konfor Aksesuarları6 Hoparlö...   \n",
       "1514  Hatchback  [{\"Konfor Group\":\"Konfor Aksesuarları6 Hoparlö...   \n",
       "1515  Hatchback  [{\"Konfor Group\":\"Konfor Aksesuarları6 Hoparlö...   \n",
       "1516  Hatchback  [{\"Konfor Group\":\"Konfor Aksesuarları6 Hoparlö...   \n",
       "\n",
       "     Tsi(Turbo Supercharger Injection)   Yakit  Sanziman Max_Güc  \\\n",
       "0                                   1   Benzin    Manuel     75    \n",
       "1                                 1.6    Dizel    Manuel     80    \n",
       "2                                 1.6    Dizel    Manuel     80    \n",
       "3                                 1.6    Dizel  Otomatik     95    \n",
       "4                                   1   Benzin  Otomatik     95    \n",
       "...                                ...     ...       ...     ...   \n",
       "1512                              1.6    Dizel    Manuel     80    \n",
       "1513                                1   Benzin    Manuel     75    \n",
       "1514                              1.6    Dizel    Manuel     80    \n",
       "1515                              1.6    Dizel    Manuel     80    \n",
       "1516                                1   Benzin    Manuel     75    \n",
       "\n",
       "                  Garanti      Aktarma Konum_sehir   Fiyat  \n",
       "0     3 Aylık DOD Garanti  Önden Çekiş       Hatay  400000  \n",
       "1              Garantisiz  Önden Çekiş    İstanbul  411500  \n",
       "2              Garantisiz  Önden Çekiş       Çorum  415000  \n",
       "3     3 Aylık DOD Garanti  Önden Çekiş    İstanbul  445000  \n",
       "4              Garantisiz  Önden Çekiş    İstanbul  450000  \n",
       "...                   ...          ...         ...     ...  \n",
       "1512           Garantisiz  Önden Çekiş    İstanbul  387500  \n",
       "1513           Garantisiz  Önden Çekiş    İstanbul  390000  \n",
       "1514           Garantisiz  Önden Çekiş    İstanbul  394500  \n",
       "1515  3 Aylık DOD Garanti  Önden Çekiş       İzmir  395000  \n",
       "1516           Garantisiz  Önden Çekiş    İstanbul  400000  \n",
       "\n",
       "[1517 rows x 21 columns]"
      ]
     },
     "metadata": {},
     "output_type": "display_data"
    }
   ],
   "source": [
    "\n",
    "\n",
    "import pandas as pd; import numpy as np\n",
    "# Step: Replace  Km/h with  in 'Hiz'\n",
    "df['Hiz'] = df['Hiz'].replace(' Km/h', ' ')\n",
    "\n",
    "import pandas as pd; import numpy as np\n",
    "# Step: Manipulate strings of 'Hiz' via Find 'Km/h' and Replace with ''\n",
    "df[\"Hiz\"] = df[\"Hiz\"].str.replace('Km/h', '', regex=False)\n",
    "\n",
    "# Step: Manipulate strings of 'Tsi(Turbo Supercharger Injection)' via Find 'Lt' and Replace with ''\n",
    "df[\"Tsi(Turbo Supercharger Injection)\"] = df[\"Tsi(Turbo Supercharger Injection)\"].str.replace('Lt', '', regex=False)\n",
    "\n",
    "# Step: Manipulate strings of 'Max_Güc' via Find 'Hp' and Replace with ''\n",
    "df[\"Max_Güc\"] = df[\"Max_Güc\"].str.replace('Hp', '', regex=False)\n",
    "\n",
    "df"
   ]
  },
  {
   "cell_type": "code",
   "execution_count": 6,
   "id": "18aed9ba",
   "metadata": {},
   "outputs": [
    {
     "data": {
      "text/plain": [
       "'[{\"Konfor Group\":\"Konfor Aksesuarları6 Hoparlör - 6HÇok Fonksiyonlu Direksiyon - FDDireksiyondan K. Müzik SistemiElektrikli Arka Camlar - 2AECElektrikli ve Isıtmalı AynaElektronik Direksiyon AyarıElektro-Servo Direksiyon - ELSHidrolik Direksiyon - HD\\xa0Manuel Klima - AC\\xa0Yol Bilgisayarı - YBYükseklik Ayarlı Sürücü Koltuğu\"}]'"
      ]
     },
     "execution_count": 6,
     "metadata": {},
     "output_type": "execute_result"
    }
   ],
   "source": [
    "df[\"Konfor Group\"][0]"
   ]
  },
  {
   "cell_type": "code",
   "execution_count": 7,
   "id": "57814926",
   "metadata": {},
   "outputs": [
    {
     "data": {
      "text/plain": [
       "'[{\"Konfor Group\":\"Konfor Aksesuarları4 Bölgeli Otomatik Klima - 4BK8 Hoparlör - 8HAlüminyum Alaşım Jant - AJArka Kol Dayama - KDCD Çalar - CD\\xa0Çok Fonksiyonlu Direksiyon - FDDeri Direksiyon - DDi\\xa0Deri Vites Topuzu - DVTDireksiyondan K. Müzik SistemiElektrikli Arka Camlar - 2AECElektrikli Sürücü KoltuğuElektrikli ve Isıtmalı AynaElektronik Direksiyon AyarıElektro-Servo Direksiyon - ELSHız Sabitleyici - CC\\xa0Hidrolik Direksiyon - HD\\xa0Port Bagaj - PB\\xa0Torpido Gözü Soğutması - TGSYol Bilgisayarı - YBYükseklik Ayarlı Yolcu Koltuğu\"}]'"
      ]
     },
     "execution_count": 7,
     "metadata": {},
     "output_type": "execute_result"
    }
   ],
   "source": [
    "df[\"Konfor Group\"][32]"
   ]
  },
  {
   "cell_type": "code",
   "execution_count": 8,
   "id": "9be8b09c",
   "metadata": {},
   "outputs": [],
   "source": [
    "gl = []\n",
    "kl = []\n",
    "def countForSafety_Confort():\n",
    "    for i in df[\"Guvenlik Group\"]:\n",
    "        gl.append(i.count(\"-\"))\n",
    "    for j in df[\"Konfor Group\"]:\n",
    "        kl.append(j.count(\"-\"))"
   ]
  },
  {
   "cell_type": "code",
   "execution_count": 9,
   "id": "12766eac",
   "metadata": {},
   "outputs": [],
   "source": [
    "countForSafety_Confort()"
   ]
  },
  {
   "cell_type": "code",
   "execution_count": 10,
   "id": "1e4378e6",
   "metadata": {},
   "outputs": [],
   "source": [
    "df[\"Guvenlik Group\"]=gl\n",
    "df[\"Konfor Group\"] =kl"
   ]
  },
  {
   "cell_type": "code",
   "execution_count": 11,
   "id": "1d6ac277",
   "metadata": {},
   "outputs": [],
   "source": [
    "df\n",
    "#Renkten yapmaya devam et sonra categorilere çevir doru olanlara sonra one hot encoder sonra modeli kurmaya başla\n",
    "import pandas as pd; import numpy as np\n",
    "# Step: Keep rows where Renk contains Gri (case-sensitive, regular expression)\n",
    "RenkGri = df.loc[df['Renk'].str.contains('Gri', case=True, regex=True, na=False)]\n",
    "\n"
   ]
  },
  {
   "cell_type": "code",
   "execution_count": 12,
   "id": "b1f5a746",
   "metadata": {},
   "outputs": [],
   "source": [
    "#Renkte 127 tane var.ama bunları biraz azaltmam lazım.Mavi-Açık Mavi-Lacivert gibi 3 kategoriye.Mesela Saf Beyaz ve Beyazı tek kategoriye düşürmek niyetindeyim.Kırmızı BEyaz,Gri-siyah gibi olanları ayrı kategori yapıp çift renk 1-0 olarak orda ayrı bir kategori oluşturuabilirim daha iyi olur"
   ]
  },
  {
   "cell_type": "markdown",
   "id": "9a38349c",
   "metadata": {},
   "source": [
    "Beyaz-Saf Beyaz-Opak Beyaz-Kar Beyazı-Alp Beyazı-Ibis Beyazı -Sedef Beyaz -Buz Beyazı -Kutup Beyazı -->Beyaz\n",
    "Siyah- Diğer Siyah tamamı --> Siyah ve Metalik--> Metalik Siyah\n",
    "\n",
    "Normal Gri --> Gri-Atom Gri-Akik Gri\n",
    "Açık Gri --> Gümüş Gri-Tungsten Gri -Business Gri-Gri Füme-Platin Gri-Buz Gri-Platınyum Gri-Aytozu Gri-Atlas Gri-Kaya Grisi-Tekno Gri-Hakim Gri-Bulut Gri\n",
    "Koyu Gri -->Indiyum Grisi-Uranus Gri-Uranüs Gri-Fırtına Gri-Yunus Gri-Füme Granit Gri-Titanyum Gri-Antresit Gri\n",
    "\n",
    "Normal Mavi--> Mavi\n",
    "Açık Mavi-->Yarış Mavisi-Sedefli Mürekkep Mavi-Demirci Mavisi-Arıel Mavi-Aruz Mavi-Amparo Mavi-Açık Mavi\n",
    "Koyu Mavi(Lacivert Yazacam Yerine)--> Harvard Mavi-Atlantik Mavi-Gece Mavisi-Kosmos Mavi-Pasifik Mavisi-Derin Mavi-İpek Mavisi-Okyanus Mavisi-Kozmik Mavi-Koyu Mavi\n",
    "\n",
    "Normal Kırmızı-->Kırmızı,\n",
    "AÇık Kırmızı-->Açık Kırmızı,Sedefli Misano Kırmızısı, Parlak Kırmızı \n",
    "Koyu Kırmızı-->Alev Kırmızısı,Manyetik Kırmızı,Ateş Kırmızı,Bayrak Kırmızı,Mercan Kırmızı,Tango\n",
    "\n",
    "Yeşil Kendisi var\n",
    "Sarı kendisi var sadece\n",
    "\n",
    "Bordo ve Turkuaz ı ayrı renk olarak AÇık Mavi veya Koyu Kırmızı olarak değiştirdim \n",
    "\n",
    "BEj olarak toplasan 5 tane araç var yok o yüzden MEtalik ve normal olarak sınıflandırıcam\n",
    "\n",
    "Grı ve Safir Siyah ı en sonra ekleyecem\n",
    "\n",
    "Galapagos Antrasit Gri olarak sayıcam\n",
    "\n",
    "1 tane menekşe moru var onu da Koyu Mor olarak kaydedicem\n"
   ]
  },
  {
   "cell_type": "code",
   "execution_count": 13,
   "id": "c14d3c7e",
   "metadata": {},
   "outputs": [
    {
     "data": {
      "text/plain": [
       "1          Koyu Gri\n",
       "16         Açık Gri\n",
       "17         Açık Gri\n",
       "22              Gri\n",
       "25         Açık Gri\n",
       "           ...     \n",
       "1496    Metalik Gri\n",
       "1497            Gri\n",
       "1498       Açık Gri\n",
       "1499            Gri\n",
       "1511       Koyu Gri\n",
       "Name: Renk, Length: 351, dtype: object"
      ]
     },
     "execution_count": 13,
     "metadata": {},
     "output_type": "execute_result"
    }
   ],
   "source": [
    "# Step: Set values of Renk to Gri where Renk is one of: Gri, Atom Gri, Akik Gri\n",
    "RenkGri.loc[RenkGri['Renk'].isin(['Gri', 'Atom Gri', 'Akik Gri']), 'Renk'] = 'Gri'\n",
    "# Step: Set values of Renk to Açık Gri where Renk is one of: Gümüş Gri, Tungsten Gri, Business Gri, Gri Füme, Platınyum Gri, Aytozu Gri, Atlas Gri, Kaya  Grisi, Tekno Gri, Hakim Gri, Bulut Gri\n",
    "RenkGri.loc[RenkGri['Renk'].isin(['Gümüş Gri', 'Tungsten Gri', 'Business Gri', 'Gri Füme', 'Platınyum Gri','Platin Gri','Buz Gri', 'Aytozu Gri', 'Atlas Gri', 'Kaya  Grisi', 'Tekno Gri', 'Hakim Gri', 'Bulut Gri']), 'Renk'] = 'Açık Gri'\n",
    "# Step: Set values of MarkaAdi to Koyu Gri where Renk is one of: İndiyum Grisi, Uranüs Gri, Uranus Gri, Fırtına Gri, Yunus Gri, Füme Granit Gri, Titanyum Gri, Antresit Gri\n",
    "RenkGri.loc[RenkGri['Renk'].isin(['İndiyum Grisi', 'Uranüs Gri', 'Uranus Gri', 'Fırtına Gri', 'Yunus Gri', 'Füme Granit Gri', 'Titanyum Gri', 'Antresit Gri','Duman Gri']), 'Renk'] = 'Koyu Gri'\n",
    "# Step: Set values of Renk to Metalik Gri where Renk is one of: Metalik Muson Gri, Metalik Floret Gümüş Grisi, Metalik Gri, Metalik Teknik Gri, Metalik Manhattan Gri, Metalik Estrella Gri\n",
    "RenkGri.loc[RenkGri['Renk'].isin(['Metalik Muson Gri', 'Metalik Floret Gümüş Grisi', 'Metalik Gri', 'Metalik Teknik Gri', 'Metalik Manhattan Gri', 'Metalik Estrella Gri']), 'Renk'] = 'Metalik Gri'\n",
    "# Step: Set values of MarkaAdi to Gri Siyah where Renk is one of: Gri Siyah, Gri-siyah\n",
    "RenkGri.loc[RenkGri['Renk'].isin(['Gri Siyah', 'Gri-siyah']), 'Renk'] = 'Gri Siyah'\n",
    "\n",
    "RenkGri = RenkGri[\"Renk\"]\n",
    "RenkGri"
   ]
  },
  {
   "cell_type": "code",
   "execution_count": 14,
   "id": "6dcbae0e",
   "metadata": {},
   "outputs": [],
   "source": [
    "df[\"Renk\"].loc[df['Renk'].str.contains('Gri', case=True, regex=True, na=False)] = RenkGri #Sonunda bölmesine yaparak olayı bitiriyoruz"
   ]
  },
  {
   "cell_type": "code",
   "execution_count": 15,
   "id": "ad662d34",
   "metadata": {},
   "outputs": [],
   "source": [
    "RenkBeyaz = df.loc[df['Renk'].str.contains('Beyaz', case=True, regex=True, na=False)]\n",
    "import pandas as pd; import numpy as np\n",
    "# Step: Set values of Renk to Beyaz where Renk is one of: Saf Beyaz, Beyaz, Buz Beyazı, Alp Beyazı, Opak Beyaz, İnci Beyazı, Sedef Beyaz, Kutup Beyazı, Kar Beyazı, Şeker Beyazı, Ibis Beyazı, Opak Bila Beyaz\n",
    "RenkBeyaz.loc[RenkBeyaz['Renk'].isin(['Saf Beyaz', 'Beyaz', 'Buz Beyazı', 'Alp Beyazı', 'Opak Beyaz', 'İnci Beyazı', 'Sedef Beyaz', 'Kutup Beyazı', 'Kar Beyazı', 'Şeker Beyazı', 'Ibis Beyazı', 'Opak Bila Beyaz']), 'Renk'] = 'Beyaz'\n",
    "\n",
    "RenkBeyaz =RenkBeyaz[\"Renk\"]"
   ]
  },
  {
   "cell_type": "code",
   "execution_count": 16,
   "id": "4553bada",
   "metadata": {},
   "outputs": [],
   "source": [
    "df[\"Renk\"].loc[df['Renk'].str.contains('Beyaz', case=True, regex=True, na=False)] = RenkBeyaz"
   ]
  },
  {
   "cell_type": "code",
   "execution_count": 17,
   "id": "803a7677",
   "metadata": {},
   "outputs": [
    {
     "data": {
      "text/plain": [
       "13      Siyah\n",
       "18      Siyah\n",
       "32      Siyah\n",
       "42      Siyah\n",
       "53      Siyah\n",
       "        ...  \n",
       "1477    Siyah\n",
       "1485    Siyah\n",
       "1501    Siyah\n",
       "1512    Siyah\n",
       "1514    Siyah\n",
       "Name: Renk, Length: 228, dtype: object"
      ]
     },
     "execution_count": 17,
     "metadata": {},
     "output_type": "execute_result"
    }
   ],
   "source": [
    "RenkSiyah = df.loc[df['Renk'].str.contains('Siyah', case=True, regex=True, na=False)]\n",
    "import pandas as pd; import numpy as np\n",
    "# Step: Set values of Renk to Siyah where Renk is one of: Basalt Siyahı, Siyah, Metalik Siyah, Derin Siyah, Kahve Siyah, Opak Siyah, Gece Siyahı, Büyülü Siyah, Siyah İnci, İnci Siyah, Parlak Siyah\n",
    "RenkSiyah.loc[RenkSiyah['Renk'].isin(['Basalt Siyahı', 'Siyah', 'Metalik Siyah', 'Derin Siyah', 'Kahve Siyah', 'Opak Siyah', 'Gece Siyahı', 'Büyülü Siyah', 'Siyah İnci', 'İnci Siyah', 'Parlak Siyah']), 'Renk'] = 'Siyah'\n",
    "\n",
    "# Step: Set values of MarkaAdi to Metalik Siyah where Renk is one of: Metalik Mitos Siyah, Metlik Mitos Siyah\n",
    "RenkSiyah.loc[RenkSiyah['Renk'].isin(['Metalik Mitos Siyah', 'Metlik Mitos Siyah']), 'Renk'] = 'Metalik Siyah'\n",
    "\n",
    "import pandas as pd; import numpy as np\n",
    "# Step: Set values of MarkaAdi to Beyaz Siyah where Renk is one of: Beyaz Siyah, Siyah-beyaz\n",
    "RenkSiyah.loc[RenkSiyah['Renk'].isin(['Beyaz Siyah', 'Siyah-beyaz']), 'MarkaAdi'] = 'Beyaz Siyah'\n",
    "\n",
    "RenkSiyah = RenkSiyah[\"Renk\"]\n",
    "RenkSiyah"
   ]
  },
  {
   "cell_type": "code",
   "execution_count": 18,
   "id": "1e66589d",
   "metadata": {},
   "outputs": [],
   "source": [
    "df[\"Renk\"].loc[df['Renk'].str.contains('Siyah', case=True, regex=True, na=False)] = RenkSiyah"
   ]
  },
  {
   "cell_type": "code",
   "execution_count": 19,
   "id": "1ed9aff7",
   "metadata": {
    "scrolled": true
   },
   "outputs": [
    {
     "data": {
      "text/plain": [
       "30          Lacivert\n",
       "31          Lacivert\n",
       "56          Lacivert\n",
       "59              Mavi\n",
       "67         Açık Mavi\n",
       "            ...     \n",
       "1405            Mavi\n",
       "1407    Metalik Mavi\n",
       "1408            Mavi\n",
       "1412            Mavi\n",
       "1422            Mavi\n",
       "Name: Renk, Length: 136, dtype: object"
      ]
     },
     "execution_count": 19,
     "metadata": {},
     "output_type": "execute_result"
    }
   ],
   "source": [
    "RenkMavi = df.loc[df['Renk'].str.contains('Mavi', case=True, regex=True, na=False)]\n",
    "RenkMavi\n",
    "import pandas as pd; import numpy as np\n",
    "# Step: Set values of Renk to Lacivert where Renk is one of: Harvard Mavi, Atlantik Mavi, Gece Mavisi, Koyu Mavi, Kozmik Mavi, Kosmos Mavi, Pasifik Mavisi, Derin Mavi, İpek Mavisi, Okyanus Mavisi\n",
    "RenkMavi.loc[RenkMavi['Renk'].isin(['Harvard Mavi', 'Atlantik Mavi', 'Gece Mavisi', 'Koyu Mavi', 'Kozmik Mavi', 'Kosmos Mavi', 'Cosmos Mavi','Pasifik Mavisi', 'Derin Mavi', 'İpek Mavisi', 'Okyanus Mavisi']), 'Renk'] = 'Lacivert'\n",
    "\n",
    "# Step: Set values of Renk to Açık Mavi where Renk is one of: Yarış Mavisi, Sedefli Mürekkep Mavi, Demirci Mavisi, Arıel Mavi, Aruz Mavi, Amparo Mavi, Açık Mavi\n",
    "RenkMavi.loc[RenkMavi['Renk'].isin(['Yarış Mavisi', 'Sedefli Mürekkep Mavi', 'Demirci Mavisi', 'Arıel Mavi', 'Aruz Mavi', 'Amparo Mavi', 'Açık Mavi']), 'Renk'] = 'Açık Mavi'\n",
    "\n",
    "# Step: Set values of Renk to Metalik Mavi where Renk is one of: Metalik Kosmos Mavisi-gri Tent, Metalik Hainan Mavisi, Metalik Scuba Mavi, Metalik Mavi\n",
    "RenkMavi.loc[RenkMavi['Renk'].isin(['Metalik Kosmos Mavisi-gri Tent', 'Metalik Hainan Mavisi', 'Metalik Scuba Mavi', 'Metalik Mavi']), 'Renk'] = 'Metalik Mavi'\n",
    "\n",
    "RenkMavi =RenkMavi[\"Renk\"]\n",
    "RenkMavi"
   ]
  },
  {
   "cell_type": "code",
   "execution_count": 20,
   "id": "ced144bf",
   "metadata": {},
   "outputs": [],
   "source": [
    "df[\"Renk\"].loc[df['Renk'].str.contains('Mavi', case=True, regex=True, na=False)] = RenkMavi"
   ]
  },
  {
   "cell_type": "code",
   "execution_count": 21,
   "id": "a3d4e8f1",
   "metadata": {
    "scrolled": true
   },
   "outputs": [
    {
     "data": {
      "application/vnd.jupyter.widget-view+json": {
       "model_id": "002198af91f94d61ba6c007024983fd4"
      },
      "text/plain": [
       "        MarkaAdi   Modeladi      Renk   Hiz MaxTork  Silindir  Depo  Tuketim  \\\n",
       "30    Volkswagen     Passat  Lacivert  208      200       4.0  59.0      6.8   \n",
       "31    Volkswagen     Passat  Lacivert  206      250       4.0  59.0      4.6   \n",
       "56    Volkswagen     Passat  Lacivert  206      250       4.0  59.0      4.6   \n",
       "174   Volkswagen     Passat  Lacivert  205      250       4.0  59.0      4.6   \n",
       "217         Audi         A3  Lacivert  224      250       4.0  50.0      6.2   \n",
       "226         Audi         A3  Lacivert  224      250       4.0  50.0      6.2   \n",
       "286          KIA        Rio  Lacivert  185      172       3.0  45.0      5.5   \n",
       "288          KIA   Sportage  Lacivert  180      320       4.0  62.0      NaN   \n",
       "403   Volkswagen       Golf  Lacivert  216      250       4.0  50.0      6.5   \n",
       "468   Volkswagen     Passat  Lacivert  220      250       4.0  59.0      6.6   \n",
       "473   Volkswagen     Passat  Lacivert  247      500       4.0  66.0      6.7   \n",
       "528          BMW   5 Serisi  Lacivert  226      250       4.0  68.0      NaN   \n",
       "611         Opel  Crossland  Lacivert  183      300       4.0  45.0      4.3   \n",
       "683      Renault     Megane  Lacivert  205      260       4.0  50.0      7.3   \n",
       "696      Renault     Megane  Lacivert  205      240       4.0  50.0      6.3   \n",
       "855        Skoda     Kodiaq  Lacivert  205      250       4.0  58.0      7.2   \n",
       "945   Volkswagen       Golf  Lacivert  192      250       4.0  50.0      4.6   \n",
       "990   Volkswagen     Passat  Lacivert  193      250       4.0  70.0      5.4   \n",
       "1029  Volkswagen       Golf  Lacivert  212      250       4.0  50.0      5.8   \n",
       "1031  Volkswagen     Tiguan  Lacivert  198      240       4.0  64.0      8.9   \n",
       "1091  Volkswagen       Polo  Lacivert  184      160       4.0  45.0      5.8   \n",
       "1165     Renault     Megane  Lacivert  187      250       4.0  47.0      4.1   \n",
       "1226  Volkswagen     Passat  Lacivert  206      250       4.0  66.0      4.6   \n",
       "1237        Audi         A3  Lacivert  205      250       4.0  50.0      4.4   \n",
       "1335  Volkswagen     Passat  Lacivert  206      250       4.0  59.0      4.5   \n",
       "1351  Volkswagen     Passat  Lacivert  206      250       4.0  59.0      4.5   \n",
       "\n",
       "      Sübap  Guvenlik Group  ...    Kasa_Tipi Konfor Group  \\\n",
       "30     16.0               9  ...        Sedan           18   \n",
       "31     16.0               8  ...        Sedan           16   \n",
       "56     16.0               8  ...        Sedan           16   \n",
       "174    16.0               7  ...        Sedan           13   \n",
       "217    16.0              10  ...        Sedan           13   \n",
       "226    16.0              10  ...        Sedan           13   \n",
       "286    12.0               7  ...    Hatchback           13   \n",
       "288    16.0               9  ...  Arazi aracı           18   \n",
       "403    16.0               8  ...    Hatchback           15   \n",
       "468    16.0              11  ...        Sedan           19   \n",
       "473    16.0              10  ...        Sedan           17   \n",
       "528    16.0               8  ...        Sedan           15   \n",
       "611     8.0               7  ...  Arazi aracı           10   \n",
       "683    16.0               4  ...        Sedan            9   \n",
       "696    16.0               4  ...        Sedan            9   \n",
       "855    16.0               9  ...  Arazi aracı           21   \n",
       "945    16.0               5  ...    Hatchback           14   \n",
       "990    16.0               7  ...        Sedan           15   \n",
       "1029   16.0              12  ...    Hatchback           17   \n",
       "1031   16.0              12  ...  Arazi aracı           24   \n",
       "1091   16.0               9  ...    Hatchback           14   \n",
       "1165    8.0               8  ...    Hatchback           16   \n",
       "1226   16.0               9  ...        Sedan           15   \n",
       "1237   16.0              10  ...        Sedan           11   \n",
       "1335   16.0               8  ...        Sedan           16   \n",
       "1351   16.0               8  ...        Sedan           16   \n",
       "\n",
       "      Tsi(Turbo Supercharger Injection)   Yakit  Sanziman Max_Güc  \\\n",
       "30                                 1.4   Benzin    Manuel    125    \n",
       "31                                 1.6    Dizel  Otomatik    120    \n",
       "56                                 1.6    Dizel  Otomatik    120    \n",
       "174                                1.6    Dizel  Otomatik    120    \n",
       "217                                1.5   Benzin  Otomatik    150    \n",
       "226                                1.5   Benzin  Otomatik    150    \n",
       "286                                  1   Benzin  Otomatik    100    \n",
       "288                                1.6    Dizel  Otomatik    136    \n",
       "403                                1.5   Benzin  Otomatik    150    \n",
       "468                                1.5   Benzin  Otomatik    150    \n",
       "473                                  2    Dizel  Otomatik    240    \n",
       "528                                1.6   Benzin  Otomatik    170    \n",
       "611                                1.5    Dizel  Otomatik    120    \n",
       "683                                1.3   Benzin    Manuel    140    \n",
       "696                                1.3   Benzin  Otomatik    140    \n",
       "855                                1.5   Benzin  Otomatik    150    \n",
       "945                                1.6    Dizel    Manuel    105    \n",
       "990                                1.6    Dizel  Otomatik    105    \n",
       "1029                               1.4   Benzin  Otomatik    140    \n",
       "1031                               1.4   Benzin  Otomatik    160    \n",
       "1091                               1.2   Benzin  Otomatik     90    \n",
       "1165                               1.5    Dizel  Otomatik    110    \n",
       "1226                               1.6    Dizel  Otomatik    120    \n",
       "1237                               1.6    Dizel  Otomatik    116    \n",
       "1335                               1.6    Dizel  Otomatik    120    \n",
       "1351                               1.6    Dizel  Otomatik    120    \n",
       "\n",
       "                  Garanti       Aktarma Konum_sehir    Fiyat  \n",
       "30             Garantisiz   Önden Çekiş       Bursa   715000  \n",
       "31    3 Aylık DOD Garanti   Önden Çekiş    İstanbul   740000  \n",
       "56    3 Aylık DOD Garanti   Önden Çekiş    İstanbul   880000  \n",
       "174            Garantisiz   Önden Çekiş    İstanbul   800000  \n",
       "217            Garantisiz   Önden Çekiş    İstanbul   840000  \n",
       "226          DS Garantisi   Önden Çekiş    İstanbul   860000  \n",
       "286            Garantisiz   Önden Çekiş       Adana   460000  \n",
       "288            Garantisiz   Önden Çekiş      Ankara   752000  \n",
       "403            Garantisiz   Önden Çekiş     Denizli   729900  \n",
       "468   3 Aylık DOD Garanti   Önden Çekiş    İstanbul  1200000  \n",
       "473          DS Garantisi           4x4    Tekirdağ  1880000  \n",
       "528          DS Garantisi  Arkadan İtiş    İstanbul  2399900  \n",
       "611          DS Garantisi   Önden Çekiş    İstanbul   659900  \n",
       "683            Garantisiz   Önden Çekiş     Kocaeli   499000  \n",
       "696          DS Garantisi   Önden Çekiş     Kayseri   580000  \n",
       "855          DS Garantisi   Önden Çekiş    Tekirdağ  1820000  \n",
       "945            Garantisiz   Önden Çekiş       Bursa   465000  \n",
       "990            Garantisiz   Önden Çekiş       Aydın   570000  \n",
       "1029           Garantisiz   Önden Çekiş     Aksaray   585000  \n",
       "1031           Garantisiz   Önden Çekiş     Denizli   589900  \n",
       "1091           Garantisiz   Önden Çekiş       Bursa   456000  \n",
       "1165           Garantisiz   Önden Çekiş      Ankara   535000  \n",
       "1226           Garantisiz   Önden Çekiş      Samsun   949950  \n",
       "1237  3 Aylık DOD Garanti   Önden Çekiş    İstanbul   795000  \n",
       "1335  3 Aylık DOD Garanti   Önden Çekiş    İstanbul   710000  \n",
       "1351  3 Aylık DOD Garanti   Önden Çekiş    İstanbul   750000  \n",
       "\n",
       "[26 rows x 21 columns]"
      ]
     },
     "metadata": {},
     "output_type": "display_data"
    }
   ],
   "source": [
    "#ayrıcana lacivert rengi de var 5 tane araç için öle yazılmış\n",
    "RenkLacivert = df.loc[df['Renk'].str.contains('Lacivert', case=True, regex=True, na=False)]\n",
    "RenkLacivert"
   ]
  },
  {
   "cell_type": "code",
   "execution_count": 22,
   "id": "e877ceed",
   "metadata": {},
   "outputs": [
    {
     "data": {
      "text/plain": [
       "28         Açık Kırmızı\n",
       "37              Kırmızı\n",
       "91         Koyu Kırmızı\n",
       "135             Kırmızı\n",
       "138             Kırmızı\n",
       "             ...       \n",
       "1411            Kırmızı\n",
       "1419       Koyu Kırmızı\n",
       "1421            Kırmızı\n",
       "1458    Metalik Kırmızı\n",
       "1459            Kırmızı\n",
       "Name: Renk, Length: 112, dtype: object"
      ]
     },
     "execution_count": 22,
     "metadata": {},
     "output_type": "execute_result"
    }
   ],
   "source": [
    "RenkKırmızı = df.loc[df['Renk'].str.contains('Kırmızı', case=True, regex=True, na=False)]\n",
    "import pandas as pd; import numpy as np\n",
    "# Step: Set values of Renk to Açık Kırmızı where Renk is one of: Açık Kırmızı, Sedefli Misano Kırmızısı, Parlak Kırmızı\n",
    "RenkKırmızı.loc[RenkKırmızı['Renk'].isin(['Açık Kırmızı', 'Sedefli Misano Kırmızısı', 'Parlak Kırmızı']), 'Renk'] = 'Açık Kırmızı'\n",
    "\n",
    "# Step: Set values of Renk to Koyu Kırmızı where Renk is one of: Bayrak Kırmızı, Manyetik Kırmızı, Alev Kırmızısı, Mercan Kırmızı, Ateş Kırmızı, Tango Kırmızı\n",
    "RenkKırmızı.loc[RenkKırmızı['Renk'].isin(['Bayrak Kırmızı', 'Manyetik Kırmızı', 'Alev Kırmızısı', 'Mercan Kırmızı', 'Ateş Kırmızı', 'Tango Kırmızı']), 'Renk'] = 'Koyu Kırmızı'\n",
    "\n",
    "RenkKırmızı=RenkKırmızı[\"Renk\"]\n",
    "RenkKırmızı"
   ]
  },
  {
   "cell_type": "code",
   "execution_count": 23,
   "id": "7202a292",
   "metadata": {},
   "outputs": [],
   "source": [
    "df[\"Renk\"].loc[df['Renk'].str.contains('Kırmızı', case=True, regex=True, na=False)] = RenkKırmızı"
   ]
  },
  {
   "cell_type": "code",
   "execution_count": 24,
   "id": "ee628065",
   "metadata": {},
   "outputs": [
    {
     "data": {
      "text/plain": [
       "77           Turuncu\n",
       "139          Turuncu\n",
       "143          Turuncu\n",
       "307          Turuncu\n",
       "311          Turuncu\n",
       "312          Turuncu\n",
       "318          Turuncu\n",
       "329          Turuncu\n",
       "400          Turuncu\n",
       "417          Turuncu\n",
       "624          Turuncu\n",
       "639          Turuncu\n",
       "640          Turuncu\n",
       "686          Turuncu\n",
       "693          Turuncu\n",
       "829     Koyu Turuncu\n",
       "830          Turuncu\n",
       "1272         Turuncu\n",
       "1513         Turuncu\n",
       "Name: Renk, dtype: object"
      ]
     },
     "execution_count": 24,
     "metadata": {},
     "output_type": "execute_result"
    }
   ],
   "source": [
    "RenkTuruncu = df.loc[df['Renk'].str.contains('Turuncu', case=True, regex=True, na=False)]\n",
    "import pandas as pd; import numpy as np\n",
    "# Step: Set values of Renk to Koyu Turuncu where Renk is one of: Bakır Turuncu\n",
    "RenkTuruncu.loc[RenkTuruncu['Renk'].isin(['Bakır Turuncu']), 'Renk'] = 'Koyu Turuncu'\n",
    "\n",
    "RenkTuruncu=RenkTuruncu[\"Renk\"]\n",
    "RenkTuruncu"
   ]
  },
  {
   "cell_type": "code",
   "execution_count": 25,
   "id": "13a64f1d",
   "metadata": {},
   "outputs": [],
   "source": [
    "df[\"Renk\"].loc[df['Renk'].str.contains('Turuncu', case=True, regex=True, na=False)] = RenkTuruncu"
   ]
  },
  {
   "cell_type": "code",
   "execution_count": 26,
   "id": "dc4323fb",
   "metadata": {},
   "outputs": [
    {
     "data": {
      "text/plain": [
       "35      Gümüş\n",
       "173     Gümüş\n",
       "387     Gümüş\n",
       "388     Gümüş\n",
       "405     Gümüş\n",
       "441     Gümüş\n",
       "875     Gümüş\n",
       "1337    Gümüş\n",
       "1340    Gümüş\n",
       "1359    Gümüş\n",
       "1362    Gümüş\n",
       "1470    Gümüş\n",
       "Name: Renk, dtype: object"
      ]
     },
     "execution_count": 26,
     "metadata": {},
     "output_type": "execute_result"
    }
   ],
   "source": [
    "RenkGümüş = df.loc[df['Renk'].str.contains('Gümüş', case=True, regex=True, na=False)]\n",
    "import pandas as pd; import numpy as np\n",
    "# Step: Set values of Renk to Gümüş where Renk is one of: Pirit Gümüş, Elmas Gümüş, Refleks Gümüş\n",
    "RenkGümüş.loc[RenkGümüş['Renk'].isin(['Pirit Gümüş', 'Elmas Gümüş', 'Refleks Gümüş']), 'Renk'] = 'Gümüş'\n",
    "\n",
    "RenkGümüş=RenkGümüş[\"Renk\"]\n",
    "RenkGümüş"
   ]
  },
  {
   "cell_type": "code",
   "execution_count": 27,
   "id": "eb57664d",
   "metadata": {},
   "outputs": [],
   "source": [
    "df[\"Renk\"].loc[df['Renk'].str.contains('Gümüş', case=True, regex=True, na=False)] = RenkGümüş"
   ]
  },
  {
   "cell_type": "code",
   "execution_count": 28,
   "id": "6b980911",
   "metadata": {},
   "outputs": [
    {
     "data": {
      "text/plain": [
       "74      Koyu Gri\n",
       "517     Koyu Gri\n",
       "673     Koyu Gri\n",
       "715     Koyu Gri\n",
       "1266    Koyu Gri\n",
       "Name: Renk, dtype: object"
      ]
     },
     "execution_count": 28,
     "metadata": {},
     "output_type": "execute_result"
    }
   ],
   "source": [
    "RenkFüme=df.loc[df['Renk'].str.contains('Füme', case=True, regex=True, na=False)]\n",
    "import pandas as pd; import numpy as np\n",
    "# Step: Set values of Renk to Koyu Gri where Renk is one of: Füme\n",
    "RenkFüme.loc[RenkFüme['Renk'].isin(['Füme']), 'Renk'] = 'Koyu Gri'\n",
    "\n",
    "RenkFüme=RenkFüme['Renk']\n",
    "RenkFüme"
   ]
  },
  {
   "cell_type": "code",
   "execution_count": 29,
   "id": "02232e41",
   "metadata": {},
   "outputs": [],
   "source": [
    "df[\"Renk\"].loc[df['Renk'].str.contains('Füme', case=True, regex=True, na=False)] = RenkFüme"
   ]
  },
  {
   "cell_type": "code",
   "execution_count": 30,
   "id": "ea58915a",
   "metadata": {},
   "outputs": [
    {
     "data": {
      "application/vnd.jupyter.widget-view+json": {
       "model_id": "d3b67bad274f45ae96db3ce69d3c0edc"
      },
      "text/plain": [
       "        MarkaAdi Modeladi      Renk   Hiz MaxTork  Silindir  Depo  Tuketim  \\\n",
       "0     Volkswagen     Polo   Fildişi  170       95       3.0  40.0      4.1   \n",
       "1     Volkswagen     Polo  Koyu Gri  175      230       4.0  40.0      4.5   \n",
       "2     Volkswagen     Polo     Beyaz  175      230       4.0  40.0      4.5   \n",
       "3     Volkswagen     Polo     Beyaz  185      250       4.0  40.0      4.5   \n",
       "4     Volkswagen     Polo     Beyaz  187      175       3.0  40.0      5.8   \n",
       "...          ...      ...       ...   ...     ...       ...   ...      ...   \n",
       "1512  Volkswagen     Polo     Siyah  175      230       4.0  40.0      4.5   \n",
       "1513  Volkswagen     Polo   Turuncu  170       95       3.0  40.0      4.1   \n",
       "1514  Volkswagen     Polo     Siyah  175      230       4.0  40.0      4.5   \n",
       "1515  Volkswagen     Polo     Beyaz  175      230       4.0  40.0      4.5   \n",
       "1516  Volkswagen     Polo     Beyaz  170       95       3.0  40.0      4.1   \n",
       "\n",
       "      Sübap  Guvenlik Group  ...  Kasa_Tipi Konfor Group  \\\n",
       "0      12.0               5  ...  Hatchback            8   \n",
       "1      16.0               6  ...  Hatchback           10   \n",
       "2      16.0               5  ...  Hatchback            8   \n",
       "3      16.0               7  ...  Hatchback           11   \n",
       "4      12.0               8  ...  Hatchback           13   \n",
       "...     ...             ...  ...        ...          ...   \n",
       "1512   16.0               6  ...  Hatchback           10   \n",
       "1513   12.0               5  ...  Hatchback            8   \n",
       "1514   16.0               6  ...  Hatchback           10   \n",
       "1515   16.0               5  ...  Hatchback            8   \n",
       "1516   12.0               5  ...  Hatchback            8   \n",
       "\n",
       "      Tsi(Turbo Supercharger Injection)   Yakit  Sanziman Max_Güc  \\\n",
       "0                                    1   Benzin    Manuel     75    \n",
       "1                                  1.6    Dizel    Manuel     80    \n",
       "2                                  1.6    Dizel    Manuel     80    \n",
       "3                                  1.6    Dizel  Otomatik     95    \n",
       "4                                    1   Benzin  Otomatik     95    \n",
       "...                                 ...     ...       ...     ...   \n",
       "1512                               1.6    Dizel    Manuel     80    \n",
       "1513                                 1   Benzin    Manuel     75    \n",
       "1514                               1.6    Dizel    Manuel     80    \n",
       "1515                               1.6    Dizel    Manuel     80    \n",
       "1516                                 1   Benzin    Manuel     75    \n",
       "\n",
       "                  Garanti      Aktarma Konum_sehir   Fiyat  \n",
       "0     3 Aylık DOD Garanti  Önden Çekiş       Hatay  400000  \n",
       "1              Garantisiz  Önden Çekiş    İstanbul  411500  \n",
       "2              Garantisiz  Önden Çekiş       Çorum  415000  \n",
       "3     3 Aylık DOD Garanti  Önden Çekiş    İstanbul  445000  \n",
       "4              Garantisiz  Önden Çekiş    İstanbul  450000  \n",
       "...                   ...          ...         ...     ...  \n",
       "1512           Garantisiz  Önden Çekiş    İstanbul  387500  \n",
       "1513           Garantisiz  Önden Çekiş    İstanbul  390000  \n",
       "1514           Garantisiz  Önden Çekiş    İstanbul  394500  \n",
       "1515  3 Aylık DOD Garanti  Önden Çekiş       İzmir  395000  \n",
       "1516           Garantisiz  Önden Çekiş    İstanbul  400000  \n",
       "\n",
       "[1517 rows x 21 columns]"
      ]
     },
     "metadata": {},
     "output_type": "display_data"
    }
   ],
   "source": [
    "df"
   ]
  },
  {
   "cell_type": "code",
   "execution_count": 31,
   "id": "7831f246",
   "metadata": {},
   "outputs": [
    {
     "data": {
      "text/plain": [
       "164     Bej\n",
       "1072    Bej\n",
       "1141    Bej\n",
       "1181    Bej\n",
       "1249    Bej\n",
       "Name: Renk, dtype: object"
      ]
     },
     "execution_count": 31,
     "metadata": {},
     "output_type": "execute_result"
    }
   ],
   "source": [
    "RenkBej=df.loc[df['Renk'].str.contains('Bej', case=True, regex=True, na=False)]\n",
    "import pandas as pd; import numpy as np\n",
    "# Step: Set values of Renk to Bej where Renk is one of: Mojave Bej, Kahverengi Bej, Kapuçino Beji, Metalik Karat Beji\n",
    "RenkBej.loc[RenkBej['Renk'].isin(['Mojave Bej', 'Kahverengi Bej', 'Kapuçino Beji', 'Metalik Karat Beji']), 'Renk'] = 'Bej'\n",
    "\n",
    "RenkBej=RenkBej[\"Renk\"]\n",
    "RenkBej"
   ]
  },
  {
   "cell_type": "code",
   "execution_count": 32,
   "id": "5a89d17b",
   "metadata": {},
   "outputs": [],
   "source": [
    "df[\"Renk\"].loc[df['Renk'].str.contains('Bej', case=True, regex=True, na=False)] = RenkBej"
   ]
  },
  {
   "cell_type": "code",
   "execution_count": 33,
   "id": "f4b7c300",
   "metadata": {},
   "outputs": [
    {
     "data": {
      "application/vnd.jupyter.widget-view+json": {
       "model_id": "bc2c92e8a5734b589296403031cbed91"
      },
      "text/plain": [
       "        MarkaAdi Modeladi      Renk   Hiz MaxTork  Silindir  Depo  Tuketim  \\\n",
       "0     Volkswagen     Polo   Fildişi  170       95       3.0  40.0      4.1   \n",
       "1     Volkswagen     Polo  Koyu Gri  175      230       4.0  40.0      4.5   \n",
       "2     Volkswagen     Polo     Beyaz  175      230       4.0  40.0      4.5   \n",
       "3     Volkswagen     Polo     Beyaz  185      250       4.0  40.0      4.5   \n",
       "4     Volkswagen     Polo     Beyaz  187      175       3.0  40.0      5.8   \n",
       "...          ...      ...       ...   ...     ...       ...   ...      ...   \n",
       "1512  Volkswagen     Polo     Siyah  175      230       4.0  40.0      4.5   \n",
       "1513  Volkswagen     Polo   Turuncu  170       95       3.0  40.0      4.1   \n",
       "1514  Volkswagen     Polo     Siyah  175      230       4.0  40.0      4.5   \n",
       "1515  Volkswagen     Polo     Beyaz  175      230       4.0  40.0      4.5   \n",
       "1516  Volkswagen     Polo     Beyaz  170       95       3.0  40.0      4.1   \n",
       "\n",
       "      Sübap  Guvenlik Group  ...  Kasa_Tipi Konfor Group  \\\n",
       "0      12.0               5  ...  Hatchback            8   \n",
       "1      16.0               6  ...  Hatchback           10   \n",
       "2      16.0               5  ...  Hatchback            8   \n",
       "3      16.0               7  ...  Hatchback           11   \n",
       "4      12.0               8  ...  Hatchback           13   \n",
       "...     ...             ...  ...        ...          ...   \n",
       "1512   16.0               6  ...  Hatchback           10   \n",
       "1513   12.0               5  ...  Hatchback            8   \n",
       "1514   16.0               6  ...  Hatchback           10   \n",
       "1515   16.0               5  ...  Hatchback            8   \n",
       "1516   12.0               5  ...  Hatchback            8   \n",
       "\n",
       "      Tsi(Turbo Supercharger Injection)   Yakit  Sanziman Max_Güc  \\\n",
       "0                                    1   Benzin    Manuel     75    \n",
       "1                                  1.6    Dizel    Manuel     80    \n",
       "2                                  1.6    Dizel    Manuel     80    \n",
       "3                                  1.6    Dizel  Otomatik     95    \n",
       "4                                    1   Benzin  Otomatik     95    \n",
       "...                                 ...     ...       ...     ...   \n",
       "1512                               1.6    Dizel    Manuel     80    \n",
       "1513                                 1   Benzin    Manuel     75    \n",
       "1514                               1.6    Dizel    Manuel     80    \n",
       "1515                               1.6    Dizel    Manuel     80    \n",
       "1516                                 1   Benzin    Manuel     75    \n",
       "\n",
       "                  Garanti      Aktarma Konum_sehir   Fiyat  \n",
       "0     3 Aylık DOD Garanti  Önden Çekiş       Hatay  400000  \n",
       "1              Garantisiz  Önden Çekiş    İstanbul  411500  \n",
       "2              Garantisiz  Önden Çekiş       Çorum  415000  \n",
       "3     3 Aylık DOD Garanti  Önden Çekiş    İstanbul  445000  \n",
       "4              Garantisiz  Önden Çekiş    İstanbul  450000  \n",
       "...                   ...          ...         ...     ...  \n",
       "1512           Garantisiz  Önden Çekiş    İstanbul  387500  \n",
       "1513           Garantisiz  Önden Çekiş    İstanbul  390000  \n",
       "1514           Garantisiz  Önden Çekiş    İstanbul  394500  \n",
       "1515  3 Aylık DOD Garanti  Önden Çekiş       İzmir  395000  \n",
       "1516           Garantisiz  Önden Çekiş    İstanbul  400000  \n",
       "\n",
       "[1517 rows x 21 columns]"
      ]
     },
     "metadata": {},
     "output_type": "display_data"
    }
   ],
   "source": [
    "import pandas as pd; import numpy as np\n",
    "# Step: Set values of Renk to Gri where Renk is one of: Grı, Galapagos Antrasit\n",
    "df.loc[df['Renk'].isin(['Grı', 'Galapagos Antrasit']), 'Renk'] = 'Gri'\n",
    "\n",
    "# Step: Set values of Renk to Koyu Mor where Renk is one of: Menekşe Moru\n",
    "df.loc[df['Renk'].isin(['Menekşe Moru']), 'Renk'] = 'Koyu Mor'\n",
    "\n",
    "# Step: Set values of Renk to Koyu Kırmızı where Renk is one of: Bordo\n",
    "df.loc[df['Renk'].isin(['Bordo']), 'Renk'] = 'Koyu Kırmızı'\n",
    "\n",
    "# Step: Set values of Renk to Açık Mavi where Renk is one of: Turkuaz\n",
    "df.loc[df['Renk'].isin(['Turkuaz']), 'Renk'] = 'Açık Mavi'\n",
    "\n",
    "# Step: Set values of Renk to Metalik Siyah where Renk is one of: Safir Siyah\n",
    "df.loc[df['Renk'].isin(['Safir Siyah']), 'Renk'] = 'Metalik Siyah'\n",
    "\n",
    "# Step: Set values of Renk to Beyaz Siyah where Renk is one of: Siyah-beyaz\n",
    "df.loc[df['Renk'].isin(['Siyah-beyaz']), 'Renk'] = 'Beyaz Siyah'\n",
    "\n",
    "df\n",
    "\n",
    "#RENKLER BURADA BİTTİ"
   ]
  },
  {
   "cell_type": "code",
   "execution_count": 34,
   "id": "f5038119",
   "metadata": {},
   "outputs": [],
   "source": [
    "import pandas as pd; import numpy as np\n",
    "# Step: Keep rows where Modeladi contains Clio (case-sensitive, regular expression)\n",
    "Clio = df.loc[df['Modeladi'].str.contains('Clio', case=True, regex=True, na=False)]# There're Clio Sport Tourer and Clio.We ll assume they're similiar\n",
    "\n",
    "import pandas as pd; import numpy as np\n",
    "# Step: Set values of Modeladi to Clio where Modeladi contains Clio (case-sensitive, regular expression)\n",
    "df.loc[df['Modeladi'].str.contains('Clio', case=True, regex=True, na=False), 'Modeladi'] = 'Clio'\n",
    "\n",
    "Passat = df.loc[df['Modeladi'].str.contains('Passat', case=True, regex=True, na=False)]#There're Passat and Passat Variant\n",
    "df.loc[df['Modeladi'].str.contains('Passat', case=True, regex=True, na=False), 'Modeladi'] = 'Passat'\n",
    "import pandas as pd; import numpy as np\n",
    "# Step: Set values of Modeladi to Q3 where Modeladi contains Q3 (case-sensitive, regular expression)\n",
    "df.loc[df['Modeladi'].str.contains('Q3', case=True, regex=True, na=False), 'Modeladi'] = 'Q3'\n",
    "\n",
    "# Step: Keep rows where Modeladi contains 2 Serisi (case-sensitive, regular expression)\n",
    "df2Serisi = df.loc[df['Modeladi'].str.contains('2 Serisi', case=True, regex=True, na=False)]#here're 2 Serisi and 2 Serisi Active Tourer\n",
    "\n",
    "df\n",
    "\n",
    "import pandas as pd; import numpy as np\n",
    "# Step: Set values of Modeladi to 2 Serisi where Modeladi contains 2 Serisi (case-sensitive, regular expression)\n",
    "df.loc[df['Modeladi'].str.contains('2 Serisi', case=True, regex=True, na=False), 'Modeladi'] = '2 Serisi'\n",
    "\n",
    "dfFiorino = df.loc[df['Modeladi'].str.contains('Fiorino', case=True, regex=True, na=False)]#here're Fiorino and Fiorino Panorama\n",
    "\n",
    "df.loc[df['Modeladi'].str.contains('Fiorino', case=True, regex=True, na=False), 'Modeladi'] = 'Fiorino'\n",
    "\n",
    "import pandas as pd; import numpy as np\n",
    "# Step: Keep rows where Modeladi contains 500 (case-sensitive, regular expression)\n",
    "df500 = df.loc[df['Modeladi'].str.contains('500', case=True, regex=True, na=False)] #3 model for Fiat 500,500X,500L\n",
    "\n",
    "import pandas as pd; import numpy as np\n",
    "# Step: Set values of MarkaAdi to 500 where (Modeladi contains 500 (case-sensitive, regular expression)) and (MarkaAdi is one of: Fiat)\n",
    "df.loc[(df['Modeladi'].str.contains('500', case=True, regex=True, na=False)) & (df['MarkaAdi'].isin(['Fiat'])), 'MarkaAdi'] = '500'\n",
    "\n",
    "import pandas as pd; import numpy as np\n",
    "# Step: Set values of Modeladi to 500 where Modeladi is one of: 500, 500L, 500X\n",
    "df.loc[df['Modeladi'].isin(['500', '500L', '500X']), 'Modeladi'] = '500'\n",
    "\n",
    "new_items = [a+\" \"+b for a,b in zip(df[\"MarkaAdi\"],df[\"Modeladi\"])] \n",
    "new_items\n",
    "df[\"Marka_Model\"] =new_items\n",
    "import pandas as pd; import numpy as np\n",
    "# Step: Rearranged the order of the columns\n",
    "df = df[['Marka_Model'] + ['MarkaAdi', 'Modeladi', 'Renk', 'Hiz', 'MaxTork', 'Silindir', 'Depo', 'Tuketim', 'Sübap', 'Guvenlik Group', 'Model_Yili', 'Kasa_Tipi', 'Konfor Group', 'Tsi(Turbo Supercharger Injection)', 'Yakit', 'Sanziman', 'Max_Güc', 'Garanti', 'Aktarma', 'Konum_sehir', 'Fiyat']]\n",
    "\n",
    "# Step: Drop columns\n",
    "#ŞİMDİLİK###df = df.drop(columns=['MarkaAdi', 'Modeladi'])\n",
    "\n",
    "# Step: Set values of Garanti to 1 Yıla Kadar where Garanti is one of: 3 Aylık DOD Garanti, 1 Yıllık DOD Garanti, 6 Aylık DOD Garanti\n",
    "df.loc[df['Garanti'].isin(['3 Aylık DOD Garanti', '1 Yıllık DOD Garanti', '6 Aylık DOD Garanti']), 'Garanti'] = '1 Yıla Kadar'\n",
    "\n",
    "# Step: Set values of Garanti to 1 YIldan Uzun where Garanti is one of: DS Garantisi\n",
    "df.loc[df['Garanti'].isin(['DS Garantisi']), 'Garanti'] = '1 YIldan Uzun'\n",
    "\n",
    "# Step: Change data type of Hiz to Integer\n",
    "df['Hiz'] = pd.to_numeric(df['Hiz'], downcast='integer', errors='coerce')\n",
    "\n",
    "# Step: Change data type of MaxTork to Integer\n",
    "df['MaxTork'] = pd.to_numeric(df['MaxTork'], downcast='integer', errors='coerce')\n",
    "\n",
    "# Step: Change data type of Max_Güc to Integer\n",
    "df['Max_Güc'] = pd.to_numeric(df['Max_Güc'], downcast='integer', errors='coerce')\n",
    "\n",
    "\n"
   ]
  },
  {
   "cell_type": "code",
   "execution_count": 35,
   "id": "faca872b",
   "metadata": {},
   "outputs": [],
   "source": [
    "\n",
    "\n",
    "import pandas as pd; import numpy as np\n",
    "# Step: Set values of Konum_sehir to Marmara Bölgesi where Konum_sehir is one of: İstanbul, Bursa, Kocaeli, Çanakkale, Sakarya\n",
    "df.loc[df['Konum_sehir'].isin(['İstanbul', 'Bursa', 'Kocaeli', 'Çanakkale', 'Balıkesir','Tekirdağ','Sakarya']), 'Konum_sehir'] = 'Marmara Bölgesi'\n",
    "\n",
    "import pandas as pd; import numpy as np\n",
    "# Step: Set values of Konum_sehir to Akdeniz Bölgesi where Konum_sehir is one of: Hatay, Antalya, Kahramanmaraş, Mersin, Adana\n",
    "df.loc[df['Konum_sehir'].isin(['Hatay', 'Antalya', 'Kahramanmaraş', 'Mersin', 'Adana']), 'Konum_sehir'] = 'Akdeniz Bölgesi'\n",
    "\n",
    "# Step: Set values of Konum_sehir to Ege Bölgesi where Konum_sehir is one of: İzmir, Denizli, Manisa, Aydın\n",
    "df.loc[df['Konum_sehir'].isin(['İzmir', 'Denizli', 'Manisa', 'Aydın']), 'Konum_sehir'] = 'Ege Bölgesi'\n",
    "\n",
    "import pandas as pd; import numpy as np\n",
    "# Step: Set values of Konum_sehir to İç Anadolu Bölgesi where Konum_sehir is one of: Konya, Ankara, Aksaray, Kayseri\n",
    "df.loc[df['Konum_sehir'].isin(['Konya', 'Ankara', 'Aksaray', 'Kayseri']), 'Konum_sehir'] = 'İç Anadolu Bölgesi'\n",
    "\n",
    "# Step: Set values of Konum_sehir to Karadeniz Bölgesi where Konum_sehir is one of: Çorum, Samsun, Giresun\n",
    "df.loc[df['Konum_sehir'].isin(['Çorum', 'Samsun', 'Giresun']), 'Konum_sehir'] = 'Karadeniz Bölgesi'\n",
    "\n",
    "# Step: Set values of Konum_sehir to GüneyDoğu Anadolu Bölgesi where Konum_sehir is one of: Gaziantep, Şanlıurfa\n",
    "df.loc[df['Konum_sehir'].isin(['Gaziantep', 'Şanlıurfa']), 'Konum_sehir'] = 'GüneyDoğu Anadolu Bölgesi'\n",
    "\n",
    "# Step: Rename column\n",
    "df = df.rename(columns={'Konum_sehir': 'Konum'})\n",
    "\n",
    "\n",
    "\n"
   ]
  },
  {
   "cell_type": "code",
   "execution_count": 36,
   "id": "602fa33d",
   "metadata": {},
   "outputs": [
    {
     "data": {
      "application/vnd.jupyter.widget-view+json": {
       "model_id": "c5e576a9b9774745ae2f69febdc7b3a8"
      },
      "text/plain": [
       "          Marka_Model    MarkaAdi Modeladi      Renk    Hiz  MaxTork  \\\n",
       "0     Volkswagen Polo  Volkswagen     Polo   Fildişi  170.0     95.0   \n",
       "1     Volkswagen Polo  Volkswagen     Polo  Koyu Gri  175.0    230.0   \n",
       "2     Volkswagen Polo  Volkswagen     Polo     Beyaz  175.0    230.0   \n",
       "3     Volkswagen Polo  Volkswagen     Polo     Beyaz  185.0    250.0   \n",
       "4     Volkswagen Polo  Volkswagen     Polo     Beyaz  187.0    175.0   \n",
       "...               ...         ...      ...       ...    ...      ...   \n",
       "1512  Volkswagen Polo  Volkswagen     Polo     Siyah  175.0    230.0   \n",
       "1513  Volkswagen Polo  Volkswagen     Polo   Turuncu  170.0     95.0   \n",
       "1514  Volkswagen Polo  Volkswagen     Polo     Siyah  175.0    230.0   \n",
       "1515  Volkswagen Polo  Volkswagen     Polo     Beyaz  175.0    230.0   \n",
       "1516  Volkswagen Polo  Volkswagen     Polo     Beyaz  170.0     95.0   \n",
       "\n",
       "      Silindir  Depo  Tuketim  Sübap  ...  Kasa_Tipi  Konfor Group  \\\n",
       "0          3.0  40.0      4.1   12.0  ...  Hatchback             8   \n",
       "1          4.0  40.0      4.5   16.0  ...  Hatchback            10   \n",
       "2          4.0  40.0      4.5   16.0  ...  Hatchback             8   \n",
       "3          4.0  40.0      4.5   16.0  ...  Hatchback            11   \n",
       "4          3.0  40.0      5.8   12.0  ...  Hatchback            13   \n",
       "...        ...   ...      ...    ...  ...        ...           ...   \n",
       "1512       4.0  40.0      4.5   16.0  ...  Hatchback            10   \n",
       "1513       3.0  40.0      4.1   12.0  ...  Hatchback             8   \n",
       "1514       4.0  40.0      4.5   16.0  ...  Hatchback            10   \n",
       "1515       4.0  40.0      4.5   16.0  ...  Hatchback             8   \n",
       "1516       3.0  40.0      4.1   12.0  ...  Hatchback             8   \n",
       "\n",
       "     Tsi(Turbo Supercharger Injection)   Yakit  Sanziman Max_Güc  \\\n",
       "0                                   1   Benzin    Manuel      75   \n",
       "1                                 1.6    Dizel    Manuel      80   \n",
       "2                                 1.6    Dizel    Manuel      80   \n",
       "3                                 1.6    Dizel  Otomatik      95   \n",
       "4                                   1   Benzin  Otomatik      95   \n",
       "...                                ...     ...       ...     ...   \n",
       "1512                              1.6    Dizel    Manuel      80   \n",
       "1513                                1   Benzin    Manuel      75   \n",
       "1514                              1.6    Dizel    Manuel      80   \n",
       "1515                              1.6    Dizel    Manuel      80   \n",
       "1516                                1   Benzin    Manuel      75   \n",
       "\n",
       "           Garanti      Aktarma              Konum   Fiyat  \n",
       "0     1 Yıla Kadar  Önden Çekiş    Akdeniz Bölgesi  400000  \n",
       "1       Garantisiz  Önden Çekiş    Marmara Bölgesi  411500  \n",
       "2       Garantisiz  Önden Çekiş  Karadeniz Bölgesi  415000  \n",
       "3     1 Yıla Kadar  Önden Çekiş    Marmara Bölgesi  445000  \n",
       "4       Garantisiz  Önden Çekiş    Marmara Bölgesi  450000  \n",
       "...            ...          ...                ...     ...  \n",
       "1512    Garantisiz  Önden Çekiş    Marmara Bölgesi  387500  \n",
       "1513    Garantisiz  Önden Çekiş    Marmara Bölgesi  390000  \n",
       "1514    Garantisiz  Önden Çekiş    Marmara Bölgesi  394500  \n",
       "1515  1 Yıla Kadar  Önden Çekiş        Ege Bölgesi  395000  \n",
       "1516    Garantisiz  Önden Çekiş    Marmara Bölgesi  400000  \n",
       "\n",
       "[1517 rows x 22 columns]"
      ]
     },
     "metadata": {},
     "output_type": "display_data"
    }
   ],
   "source": [
    "df"
   ]
  },
  {
   "cell_type": "code",
   "execution_count": 37,
   "id": "28c4a21d",
   "metadata": {},
   "outputs": [
    {
     "data": {
      "application/vnd.jupyter.widget-view+json": {
       "model_id": "c43be3a6d52a4906a610fa8a545549fa"
      },
      "text/plain": [
       "     Marka_Model MarkaAdi Modeladi           Renk    Hiz  MaxTork  Silindir  \\\n",
       "267      500 500      500      500          Beyaz  163.0    200.0       4.0   \n",
       "1053     500 500      500      500  Kırmızı Siyah  181.0    320.0       4.0   \n",
       "1054     500 500      500      500  Kırmızı Beyaz  160.0    102.0       4.0   \n",
       "1129     500 500      500      500          Beyaz  169.0    215.0       4.0   \n",
       "1263     500 500      500      500     Kahverengi  186.0    320.0       4.0   \n",
       "\n",
       "      Depo  Tuketim  Sübap  ...    Kasa_Tipi  Konfor Group  \\\n",
       "267   50.0      4.8   16.0  ...          MPV            14   \n",
       "1053  50.0      5.4   16.0  ...          MPV            18   \n",
       "1054  35.0      6.4    8.0  ...    Hatchback            12   \n",
       "1129  50.0      NaN   16.0  ...          MPV            16   \n",
       "1263  48.0      4.8   16.0  ...  Arazi aracı            15   \n",
       "\n",
       "     Tsi(Turbo Supercharger Injection)   Yakit  Sanziman Max_Güc  \\\n",
       "267                               1.2    Dizel  Otomatik      95   \n",
       "1053                              1.6    Dizel    Manuel     105   \n",
       "1054                              1.2   Benzin  Otomatik      69   \n",
       "1129                              1.2    Dizel  Otomatik      95   \n",
       "1263                              1.6    Dizel  Otomatik     120   \n",
       "\n",
       "           Garanti      Aktarma            Konum   Fiyat  \n",
       "267     Garantisiz  Önden Çekiş  Marmara Bölgesi  565000  \n",
       "1053    Garantisiz  Önden Çekiş  Marmara Bölgesi  425000  \n",
       "1054  1 Yıla Kadar  Önden Çekiş  Marmara Bölgesi  425000  \n",
       "1129    Garantisiz  Önden Çekiş      Ege Bölgesi  429900  \n",
       "1263    Garantisiz  Önden Çekiş  Marmara Bölgesi  540000  \n",
       "\n",
       "[5 rows x 22 columns]"
      ]
     },
     "metadata": {},
     "output_type": "display_data"
    }
   ],
   "source": [
    "#Şimdi bütün türleri çevirme RehinDurumu gibi gereksizleri atma ardından OneHotEncoder,LabelEncoder \n",
    "\n",
    "\n",
    "import pandas as pd; import numpy as np\n",
    "# Step: Keep rows where Yakit is one of: Elektrik\n",
    "df_elek = df.loc[df['Yakit'].isin(['Elektrik'])] ##BUNU SİLMEYİ DÜŞÜNÜYORUM ÇÜNKÜ 1 TANE VAR\n",
    "\n",
    "\n",
    "import pandas as pd; import numpy as np\n",
    "# Step: Drop rows where Yakit is one of: Elektrik\n",
    "df = df.loc[~(df['Yakit'].isin(['Elektrik']))]\n",
    "\n",
    "# Step: Keep rows where Marka_Model is one of: 500 500\n",
    "dfnb = df.loc[df['Marka_Model'].isin(['500 500'])]\n",
    "\n",
    "dfnb"
   ]
  },
  {
   "cell_type": "code",
   "execution_count": 38,
   "id": "02539eaa",
   "metadata": {},
   "outputs": [
    {
     "data": {
      "application/vnd.jupyter.widget-view+json": {
       "model_id": "ae1d4db6eab64457be497b6b39b07853"
      },
      "text/plain": [
       "          Marka_Model    MarkaAdi Modeladi      Renk    Hiz  MaxTork  \\\n",
       "0     Volkswagen Polo  Volkswagen     Polo   Fildişi  170.0     95.0   \n",
       "1     Volkswagen Polo  Volkswagen     Polo  Koyu Gri  175.0    230.0   \n",
       "2     Volkswagen Polo  Volkswagen     Polo     Beyaz  175.0    230.0   \n",
       "3     Volkswagen Polo  Volkswagen     Polo     Beyaz  185.0    250.0   \n",
       "4     Volkswagen Polo  Volkswagen     Polo     Beyaz  187.0    175.0   \n",
       "...               ...         ...      ...       ...    ...      ...   \n",
       "1512  Volkswagen Polo  Volkswagen     Polo     Siyah  175.0    230.0   \n",
       "1513  Volkswagen Polo  Volkswagen     Polo   Turuncu  170.0     95.0   \n",
       "1514  Volkswagen Polo  Volkswagen     Polo     Siyah  175.0    230.0   \n",
       "1515  Volkswagen Polo  Volkswagen     Polo     Beyaz  175.0    230.0   \n",
       "1516  Volkswagen Polo  Volkswagen     Polo     Beyaz  170.0     95.0   \n",
       "\n",
       "      Silindir  Depo  Tuketim  Sübap  ...  Kasa_Tipi  Konfor Group  \\\n",
       "0          3.0  40.0      4.1   12.0  ...  Hatchback             8   \n",
       "1          4.0  40.0      4.5   16.0  ...  Hatchback            10   \n",
       "2          4.0  40.0      4.5   16.0  ...  Hatchback             8   \n",
       "3          4.0  40.0      4.5   16.0  ...  Hatchback            11   \n",
       "4          3.0  40.0      5.8   12.0  ...  Hatchback            13   \n",
       "...        ...   ...      ...    ...  ...        ...           ...   \n",
       "1512       4.0  40.0      4.5   16.0  ...  Hatchback            10   \n",
       "1513       3.0  40.0      4.1   12.0  ...  Hatchback             8   \n",
       "1514       4.0  40.0      4.5   16.0  ...  Hatchback            10   \n",
       "1515       4.0  40.0      4.5   16.0  ...  Hatchback             8   \n",
       "1516       3.0  40.0      4.1   12.0  ...  Hatchback             8   \n",
       "\n",
       "     Tsi(Turbo Supercharger Injection)   Yakit  Sanziman Max_Güc  \\\n",
       "0                                   1   Benzin    Manuel      75   \n",
       "1                                 1.6    Dizel    Manuel      80   \n",
       "2                                 1.6    Dizel    Manuel      80   \n",
       "3                                 1.6    Dizel  Otomatik      95   \n",
       "4                                   1   Benzin  Otomatik      95   \n",
       "...                                ...     ...       ...     ...   \n",
       "1512                              1.6    Dizel    Manuel      80   \n",
       "1513                                1   Benzin    Manuel      75   \n",
       "1514                              1.6    Dizel    Manuel      80   \n",
       "1515                              1.6    Dizel    Manuel      80   \n",
       "1516                                1   Benzin    Manuel      75   \n",
       "\n",
       "           Garanti      Aktarma              Konum   Fiyat  \n",
       "0     1 Yıla Kadar  Önden Çekiş    Akdeniz Bölgesi  400000  \n",
       "1       Garantisiz  Önden Çekiş    Marmara Bölgesi  411500  \n",
       "2       Garantisiz  Önden Çekiş  Karadeniz Bölgesi  415000  \n",
       "3     1 Yıla Kadar  Önden Çekiş    Marmara Bölgesi  445000  \n",
       "4       Garantisiz  Önden Çekiş    Marmara Bölgesi  450000  \n",
       "...            ...          ...                ...     ...  \n",
       "1512    Garantisiz  Önden Çekiş    Marmara Bölgesi  387500  \n",
       "1513    Garantisiz  Önden Çekiş    Marmara Bölgesi  390000  \n",
       "1514    Garantisiz  Önden Çekiş    Marmara Bölgesi  394500  \n",
       "1515  1 Yıla Kadar  Önden Çekiş        Ege Bölgesi  395000  \n",
       "1516    Garantisiz  Önden Çekiş    Marmara Bölgesi  400000  \n",
       "\n",
       "[1516 rows x 22 columns]"
      ]
     },
     "metadata": {},
     "output_type": "display_data"
    }
   ],
   "source": [
    "df"
   ]
  },
  {
   "cell_type": "code",
   "execution_count": 39,
   "id": "10848148",
   "metadata": {},
   "outputs": [],
   "source": [
    "#Label Encoder yapacaklarımız var: Konum genelde en pahalı olduğu yerden(en büyük sayıyı o alacak) en ucuz olan yere bi sıralama yapıcaz.\n",
    "#                                  Aktarma : 4x4 > Önden Çekiş > Arkadan Çekiş\n",
    "#                                  Garanti: 1 yıldan uzun > 1 yıla kadar > Garantisiz\n",
    "#                                  Sanziman: Otomatik > Manuel\n",
    "#                                  Yakıt:Benzin > Dizel > LPG\n",
    "#                                  Marka_Model: BUnda şöle yapıcaz sildiğim MarkaAdi ve ModelAdi columlarını kaldırmadan fiyat durumu ortalamasına bakıcaz ona göre mesela Golf>Polo diecez fiyat ortalamalarına bakıp bölemesine kendi içlerinde sıralama yaptıktan sonra diğer modelde anı şekilde sıralama yapıcaz ondan sonra sallıyorum WV de 10 model var Skoda da 5 model var o durumda fiyat ortalaması hangisine yakınsa orda manuel bi encodeing yapıcam ardından Marka adını tek başına ONEHOTENCODİNG YAPICAZ.Bunu yapmam da biraz uzun sürecek tabi ama başka türlü işin içinden çıkamam\n",
    "#                                  Model yılı konusunda:Tersine bi Label ENcoding yapıcaz nası yapıcam bilmiyorum ona bakıcam.Yani 2023 Model araç 2013 modelden daha değerli olmalı\n"
   ]
  },
  {
   "cell_type": "code",
   "execution_count": 40,
   "id": "45e354b8",
   "metadata": {},
   "outputs": [],
   "source": [
    "#df.to_csv('file2.csv', header=True, index=False)"
   ]
  },
  {
   "cell_type": "code",
   "execution_count": 41,
   "id": "7cfd3935",
   "metadata": {},
   "outputs": [
    {
     "name": "stdout",
     "output_type": "stream",
     "text": [
      "Volkswagen Polo\n",
      "Volkswagen Caddy\n",
      "Volkswagen Golf\n",
      "Volkswagen Transporter\n",
      "Volkswagen Passat\n",
      "Volkswagen Caravelle\n",
      "Volkswagen Tiguan\n",
      "Volkswagen Arteon\n",
      "Volvo S60\n",
      "Volvo S90\n",
      "Audi A3\n",
      "Audi Q2\n",
      "Audi A5\n",
      "Audi A6\n",
      "BMW 3 Serisi\n",
      "HA  BMW 3\n",
      "new -->  BMW\n",
      "Citroen C3\n",
      "Dacia Lodgy\n",
      "Fiat Egea\n",
      "Ford Tourneo Courier\n",
      "HA  Ford Tourneo\n",
      "new -->  Ford\n",
      "Ford Focus\n",
      "HYUNDAİ I20\n",
      "KIA Rio\n",
      "KIA Sportage\n",
      "Land Rover Range Rover Velar\n",
      "HA  Land Rover Range Rover\n",
      "new -->  Land Rover\n",
      "Nissan Qashqai\n",
      "Opel Corsa\n",
      "Opel Astra\n",
      "Peugeot 301\n",
      "Peugeot 3008\n",
      "Renault SYMBOL\n",
      "Renault Clio\n",
      "Renault Megane\n",
      "Renault Kadjar\n",
      "SEAT Yeni Ibiza\n",
      "HA  SEAT Yeni\n",
      "new -->  SEAT\n",
      "SEAT Leon\n",
      "SEAT Ateca\n",
      "Skoda Octavia\n",
      "Skoda Karoq\n",
      "Skoda Kodiaq\n",
      "Toyota Corolla\n",
      "Volkswagen T-ROC\n",
      "Volvo XC90\n",
      "Audi A4\n",
      "Audi Q8\n",
      "BMW 2 SERISI GRAN COUPE\n",
      "HA  BMW 2 SERISI GRAN\n",
      "new -->  BMW\n",
      "BMW 5 Serisi\n",
      "HA  BMW 5\n",
      "new -->  BMW\n",
      "Citroen C-ELYSEE\n",
      "Citroen Jumpy\n",
      "Citroen C5 Aircross\n",
      "HA  Citroen C5\n",
      "new -->  Citroen\n",
      "Dacia Duster\n",
      "Fiat Fiorino\n",
      "Fiat Doblo Combi\n",
      "HA  Fiat Doblo\n",
      "new -->  Fiat\n",
      "500 500\n",
      "Ford Tourneo Connect\n",
      "HA  Ford Tourneo\n",
      "new -->  Ford\n",
      "Ford KUGA\n",
      "Honda Civic\n",
      "HYUNDAİ I10\n",
      "KIA Picanto\n",
      "KIA Ceed\n",
      "Mercedes-Benz A-Serisi\n",
      "Mercedes-Benz GLB\n",
      "Mercedes-Benz E-Serisi\n",
      "Opel Crossland X\n",
      "HA  Opel Crossland\n",
      "new -->  Opel\n",
      "Opel Grandland X\n",
      "HA  Opel Grandland\n",
      "new -->  Opel\n",
      "Opel Insignia\n",
      "Peugeot Rifter\n",
      "Peugeot 308\n",
      "Peugeot 2008\n",
      "Peugeot 508\n",
      "Renault Captur\n",
      "SEAT Arona\n",
      "Skoda Fabia\n",
      "Skoda Scala\n",
      "Skoda Kamiq\n",
      "Skoda Superb\n",
      "Ssangyong Korando\n",
      "Toyota Yaris\n",
      "Toyota C-HR\n",
      "Volkswagen Touareg\n",
      "Volvo XC60\n",
      "Audi Q3\n",
      "BMW 2 Serisi\n",
      "HA  BMW 2\n",
      "new -->  BMW\n",
      "BMW 1 Serisi\n",
      "HA  BMW 1\n",
      "new -->  BMW\n",
      "BMW X1\n",
      "Citroen BERLİNGO\n",
      "Dacia Sandero\n",
      "Dacia Sandero Stepway\n",
      "HA  Dacia Sandero\n",
      "new -->  Dacia\n",
      "Ford Ecosport\n",
      "Honda City\n",
      "Honda CR-V\n",
      "HYUNDAİ Tucson\n",
      "Jeep Renegade\n",
      "Nissan Juke\n",
      "Opel Crossland\n",
      "Peugeot 208\n",
      "Peugeot 5008\n",
      "Renault Taliant\n",
      "SEAT Tarraco\n",
      "Subaru XV\n",
      "SUZUKI SWIFT\n",
      "Audi A8\n",
      "Cupra Formentor\n",
      "Toyota Proace City\n",
      "HA  Toyota Proace\n",
      "new -->  Toyota\n",
      "Volkswagen T-Cross\n",
      "Volkswagen Taigo\n",
      "Ford Fiesta\n",
      "Peugeot 206\n",
      "HYUNDAİ Getz\n",
      "Ford Fusion\n",
      "Mazda Mazda3\n",
      "Citroen C4 PICASSO\n",
      "HA  Citroen C4\n",
      "new -->  Citroen\n",
      "Toyota Auris\n",
      "Volkswagen Jetta\n",
      "BMW X3\n",
      "HYUNDAİ Accent\n",
      "Fiat Grande Punto\n",
      "HA  Fiat Grande\n",
      "new -->  Fiat\n",
      "Nissan Micra\n",
      "Porsche Cayenne\n",
      "SUZUKI GRAND VITARA\n",
      "HA  SUZUKI GRAND\n",
      "new -->  SUZUKI\n",
      "Volkswagen Scirocco\n",
      "Audi A1\n",
      "BMW 7 Serisi\n",
      "HA  BMW 7\n",
      "new -->  BMW\n",
      "Mercedes-Benz S-Serisi\n",
      "MINI One\n",
      "Mitsubishi Colt\n",
      "Opel Meriva\n",
      "Volkswagen Amarok\n",
      "Audi Q5\n",
      "Citroen DS4\n",
      "Fiat Linea\n",
      "Fiat Punto Evo\n",
      "HA  Fiat Punto\n",
      "new -->  Fiat\n",
      "Mercedes-Benz B-Serisi\n",
      "Mercedes-Benz C-Serisi\n",
      "MINI Countryman\n",
      "Skoda Yeti\n",
      "Volkswagen Beetle\n",
      "BMW 6 Serisi\n",
      "HA  BMW 6\n",
      "new -->  BMW\n",
      "Fiat Freemont\n",
      "Ford B-Max\n",
      "Land Rover Range Rover Sport\n",
      "HA  Land Rover Range Rover\n",
      "new -->  Land Rover\n",
      "Volvo V40\n",
      "HYUNDAİ Accent Blue\n",
      "HA  HYUNDAİ Accent\n",
      "new -->  HYUNDAİ\n",
      "HYUNDAİ ix35\n",
      "Land Rover Range Rover Evoque\n",
      "HA  Land Rover Range Rover\n",
      "new -->  Land Rover\n",
      "SEAT Altea XL\n",
      "HA  SEAT Altea\n",
      "new -->  SEAT\n",
      "BMW SERIES 1\n",
      "HA  BMW SERIES\n",
      "new -->  BMW\n",
      "BMW X5\n",
      "Ford Mondeo\n",
      "HYUNDAİ I30\n",
      "Mercedes-Benz CLA-Serisi\n",
      "Nissan X-Trail\n",
      "Renault Fluence\n",
      "SEAT Toledo\n",
      "Toyota Verso\n",
      "Volkswagen CC\n",
      "Audi Q7\n",
      "Ford Tourneo Custom\n",
      "HA  Ford Tourneo\n",
      "new -->  Ford\n",
      "Honda HR-V\n",
      "Land Rover Discovery Sport\n",
      "HA  Land Rover Discovery\n",
      "new -->  Land Rover\n",
      "Nissan Pulsar\n",
      "Nissan Q50\n",
      "Skoda Rapid\n",
      "Citroen C4 CACTUS\n",
      "HA  Citroen C4\n",
      "new -->  Citroen\n",
      "Mercedes-Benz X-Class\n",
      "Porsche Boxer\n",
      "Renault Kangoo Multix\n",
      "HA  Renault Kangoo\n",
      "new -->  Renault\n",
      "Alfa Romeo Giulietta\n",
      "HA  Alfa Romeo\n",
      "new -->  Alfa Romeo\n",
      "BMW 4 Serisi\n",
      "HA  BMW 4\n",
      "new -->  BMW\n",
      "Ford Ranger\n",
      "Mercedes-Benz Vito\n"
     ]
    }
   ],
   "source": [
    "#Alfa Romeo yu manuel olarak alıcaz\n",
    "from collections import defaultdict\n",
    "# Create a defaultdict to store the cars by brand\n",
    "brands = defaultdict(list)\n",
    "\n",
    "# Iterate over the list of cars\n",
    "for car in df['Marka_Model'].unique():\n",
    "    # Split the car name on the space character to separate the brand from the model\n",
    "    #print(car.split(\" \"))\n",
    "    #print(\"rsplit -> \",car.rsplit(\" \", 1))\n",
    "    brand, model = car.rsplit(\" \", 1)\n",
    "    #print(brand)\n",
    "    #print(brand.isspace())\n",
    "    print(car)\n",
    "    if(brand==\"Land\"):\n",
    "        brand=\"Land Rover\"\n",
    "    if(' ' in brand):\n",
    "        print(\"HA \",brand)\n",
    "        if(brand==\"Land Rover Range Rover\"):\n",
    "            #print(\"whitespace count ->\",brand.count(\" \"))\n",
    "            brand =\"Land Rover\"\n",
    "        elif(brand==\"Land Rover Discovery\"):\n",
    "            brand=\"Land Rover\"\n",
    "        elif(brand==\"Alfa Romeo\"):\n",
    "            brand=\"Alfa Romeo\"\n",
    "        elif(brand==\"BMW 2 SERISI GRAN COUPE\" or brand==\"BMW 2 SERISI GRAN\"):\n",
    "            brand = \"BMW\"\n",
    "        elif(brand==\"Ford Tourneo\"):\n",
    "            brand=\"Ford\"\n",
    "        elif(brand==\"SEAT Yeni\"):\n",
    "            brand=\"SEAT\"\n",
    "        else:     \n",
    "            brand = brand.split(\" \")[0]\n",
    "        print(\"new --> \",brand)\n",
    "    # Add the car to the list of cars for the corresponding brand\n",
    "    brands[brand].append(car)\n",
    "\n"
   ]
  },
  {
   "cell_type": "code",
   "execution_count": 42,
   "id": "907d633e",
   "metadata": {},
   "outputs": [
    {
     "name": "stdout",
     "output_type": "stream",
     "text": [
      "Volkswagen: ----> ['Volkswagen Polo', 'Volkswagen Caddy', 'Volkswagen Golf', 'Volkswagen Transporter', 'Volkswagen Passat', 'Volkswagen Caravelle', 'Volkswagen Tiguan', 'Volkswagen Arteon', 'Volkswagen T-ROC', 'Volkswagen Touareg', 'Volkswagen T-Cross', 'Volkswagen Taigo', 'Volkswagen Jetta', 'Volkswagen Scirocco', 'Volkswagen Amarok', 'Volkswagen Beetle', 'Volkswagen CC']\n",
      "\n",
      "Volvo: ----> ['Volvo S60', 'Volvo S90', 'Volvo XC90', 'Volvo XC60', 'Volvo V40']\n",
      "\n",
      "Audi: ----> ['Audi A3', 'Audi Q2', 'Audi A5', 'Audi A6', 'Audi A4', 'Audi Q8', 'Audi Q3', 'Audi A8', 'Audi A1', 'Audi Q5', 'Audi Q7']\n",
      "\n",
      "BMW: ----> ['BMW 3 Serisi', 'BMW 2 SERISI GRAN COUPE', 'BMW 5 Serisi', 'BMW 2 Serisi', 'BMW 1 Serisi', 'BMW X1', 'BMW X3', 'BMW 7 Serisi', 'BMW 6 Serisi', 'BMW SERIES 1', 'BMW X5', 'BMW 4 Serisi']\n",
      "\n",
      "Citroen: ----> ['Citroen C3', 'Citroen C-ELYSEE', 'Citroen Jumpy', 'Citroen C5 Aircross', 'Citroen BERLİNGO', 'Citroen C4 PICASSO', 'Citroen DS4', 'Citroen C4 CACTUS']\n",
      "\n",
      "Dacia: ----> ['Dacia Lodgy', 'Dacia Duster', 'Dacia Sandero', 'Dacia Sandero Stepway']\n",
      "\n",
      "Fiat: ----> ['Fiat Egea', 'Fiat Fiorino', 'Fiat Doblo Combi', 'Fiat Grande Punto', 'Fiat Linea', 'Fiat Punto Evo', 'Fiat Freemont']\n",
      "\n",
      "Ford: ----> ['Ford Tourneo Courier', 'Ford Focus', 'Ford Tourneo Connect', 'Ford KUGA', 'Ford Ecosport', 'Ford Fiesta', 'Ford Fusion', 'Ford B-Max', 'Ford Mondeo', 'Ford Tourneo Custom', 'Ford Ranger']\n",
      "\n",
      "HYUNDAİ: ----> ['HYUNDAİ I20', 'HYUNDAİ I10', 'HYUNDAİ Tucson', 'HYUNDAİ Getz', 'HYUNDAİ Accent', 'HYUNDAİ Accent Blue', 'HYUNDAİ ix35', 'HYUNDAİ I30']\n",
      "\n",
      "KIA: ----> ['KIA Rio', 'KIA Sportage', 'KIA Picanto', 'KIA Ceed']\n",
      "\n",
      "Land Rover: ----> ['Land Rover Range Rover Velar', 'Land Rover Range Rover Sport', 'Land Rover Range Rover Evoque', 'Land Rover Discovery Sport']\n",
      "\n",
      "Nissan: ----> ['Nissan Qashqai', 'Nissan Juke', 'Nissan Micra', 'Nissan X-Trail', 'Nissan Pulsar', 'Nissan Q50']\n",
      "\n",
      "Opel: ----> ['Opel Corsa', 'Opel Astra', 'Opel Crossland X', 'Opel Grandland X', 'Opel Insignia', 'Opel Crossland', 'Opel Meriva']\n",
      "\n",
      "Peugeot: ----> ['Peugeot 301', 'Peugeot 3008', 'Peugeot Rifter', 'Peugeot 308', 'Peugeot 2008', 'Peugeot 508', 'Peugeot 208', 'Peugeot 5008', 'Peugeot 206']\n",
      "\n",
      "Renault: ----> ['Renault SYMBOL', 'Renault Clio', 'Renault Megane', 'Renault Kadjar', 'Renault Captur', 'Renault Taliant', 'Renault Fluence', 'Renault Kangoo Multix']\n",
      "\n",
      "SEAT: ----> ['SEAT Yeni Ibiza', 'SEAT Leon', 'SEAT Ateca', 'SEAT Arona', 'SEAT Tarraco', 'SEAT Altea XL', 'SEAT Toledo']\n",
      "\n",
      "Skoda: ----> ['Skoda Octavia', 'Skoda Karoq', 'Skoda Kodiaq', 'Skoda Fabia', 'Skoda Scala', 'Skoda Kamiq', 'Skoda Superb', 'Skoda Yeti', 'Skoda Rapid']\n",
      "\n",
      "Toyota: ----> ['Toyota Corolla', 'Toyota Yaris', 'Toyota C-HR', 'Toyota Proace City', 'Toyota Auris', 'Toyota Verso']\n",
      "\n",
      "500: ----> ['500 500']\n",
      "\n",
      "Honda: ----> ['Honda Civic', 'Honda City', 'Honda CR-V', 'Honda HR-V']\n",
      "\n",
      "Mercedes-Benz: ----> ['Mercedes-Benz A-Serisi', 'Mercedes-Benz GLB', 'Mercedes-Benz E-Serisi', 'Mercedes-Benz S-Serisi', 'Mercedes-Benz B-Serisi', 'Mercedes-Benz C-Serisi', 'Mercedes-Benz CLA-Serisi', 'Mercedes-Benz X-Class', 'Mercedes-Benz Vito']\n",
      "\n",
      "Ssangyong: ----> ['Ssangyong Korando']\n",
      "\n",
      "Jeep: ----> ['Jeep Renegade']\n",
      "\n",
      "Subaru: ----> ['Subaru XV']\n",
      "\n",
      "SUZUKI: ----> ['SUZUKI SWIFT', 'SUZUKI GRAND VITARA']\n",
      "\n",
      "Cupra: ----> ['Cupra Formentor']\n",
      "\n",
      "Mazda: ----> ['Mazda Mazda3']\n",
      "\n",
      "Porsche: ----> ['Porsche Cayenne', 'Porsche Boxer']\n",
      "\n",
      "MINI: ----> ['MINI One', 'MINI Countryman']\n",
      "\n",
      "Mitsubishi: ----> ['Mitsubishi Colt']\n",
      "\n",
      "Alfa Romeo: ----> ['Alfa Romeo Giulietta']\n",
      "\n"
     ]
    }
   ],
   "source": [
    "# Print the cars grouped by brand\n",
    "for brand, car_list in brands.items():\n",
    "    print(f\"{brand}: ----> {car_list}\\n\")"
   ]
  },
  {
   "cell_type": "code",
   "execution_count": 43,
   "id": "60fcdf00",
   "metadata": {},
   "outputs": [
    {
     "data": {
      "application/vnd.jupyter.widget-view+json": {
       "model_id": "308e7536e61544aba3d369c0aba8c179"
      },
      "text/plain": [
       "          Marka_Model    MarkaAdi Modeladi      Renk    Hiz  MaxTork  \\\n",
       "0     Volkswagen Polo  Volkswagen     Polo   Fildişi  170.0     95.0   \n",
       "1     Volkswagen Polo  Volkswagen     Polo  Koyu Gri  175.0    230.0   \n",
       "2     Volkswagen Polo  Volkswagen     Polo     Beyaz  175.0    230.0   \n",
       "3     Volkswagen Polo  Volkswagen     Polo     Beyaz  185.0    250.0   \n",
       "4     Volkswagen Polo  Volkswagen     Polo     Beyaz  187.0    175.0   \n",
       "...               ...         ...      ...       ...    ...      ...   \n",
       "1512  Volkswagen Polo  Volkswagen     Polo     Siyah  175.0    230.0   \n",
       "1513  Volkswagen Polo  Volkswagen     Polo   Turuncu  170.0     95.0   \n",
       "1514  Volkswagen Polo  Volkswagen     Polo     Siyah  175.0    230.0   \n",
       "1515  Volkswagen Polo  Volkswagen     Polo     Beyaz  175.0    230.0   \n",
       "1516  Volkswagen Polo  Volkswagen     Polo     Beyaz  170.0     95.0   \n",
       "\n",
       "      Silindir  Depo  Tuketim  Sübap  ...  Kasa_Tipi  Konfor Group  \\\n",
       "0          3.0  40.0      4.1   12.0  ...  Hatchback             8   \n",
       "1          4.0  40.0      4.5   16.0  ...  Hatchback            10   \n",
       "2          4.0  40.0      4.5   16.0  ...  Hatchback             8   \n",
       "3          4.0  40.0      4.5   16.0  ...  Hatchback            11   \n",
       "4          3.0  40.0      5.8   12.0  ...  Hatchback            13   \n",
       "...        ...   ...      ...    ...  ...        ...           ...   \n",
       "1512       4.0  40.0      4.5   16.0  ...  Hatchback            10   \n",
       "1513       3.0  40.0      4.1   12.0  ...  Hatchback             8   \n",
       "1514       4.0  40.0      4.5   16.0  ...  Hatchback            10   \n",
       "1515       4.0  40.0      4.5   16.0  ...  Hatchback             8   \n",
       "1516       3.0  40.0      4.1   12.0  ...  Hatchback             8   \n",
       "\n",
       "     Tsi(Turbo Supercharger Injection)   Yakit  Sanziman Max_Güc  \\\n",
       "0                                   1   Benzin    Manuel      75   \n",
       "1                                 1.6    Dizel    Manuel      80   \n",
       "2                                 1.6    Dizel    Manuel      80   \n",
       "3                                 1.6    Dizel  Otomatik      95   \n",
       "4                                   1   Benzin  Otomatik      95   \n",
       "...                                ...     ...       ...     ...   \n",
       "1512                              1.6    Dizel    Manuel      80   \n",
       "1513                                1   Benzin    Manuel      75   \n",
       "1514                              1.6    Dizel    Manuel      80   \n",
       "1515                              1.6    Dizel    Manuel      80   \n",
       "1516                                1   Benzin    Manuel      75   \n",
       "\n",
       "           Garanti      Aktarma              Konum   Fiyat  \n",
       "0     1 Yıla Kadar  Önden Çekiş    Akdeniz Bölgesi  400000  \n",
       "1       Garantisiz  Önden Çekiş    Marmara Bölgesi  411500  \n",
       "2       Garantisiz  Önden Çekiş  Karadeniz Bölgesi  415000  \n",
       "3     1 Yıla Kadar  Önden Çekiş    Marmara Bölgesi  445000  \n",
       "4       Garantisiz  Önden Çekiş    Marmara Bölgesi  450000  \n",
       "...            ...          ...                ...     ...  \n",
       "1512    Garantisiz  Önden Çekiş    Marmara Bölgesi  387500  \n",
       "1513    Garantisiz  Önden Çekiş    Marmara Bölgesi  390000  \n",
       "1514    Garantisiz  Önden Çekiş    Marmara Bölgesi  394500  \n",
       "1515  1 Yıla Kadar  Önden Çekiş        Ege Bölgesi  395000  \n",
       "1516    Garantisiz  Önden Çekiş    Marmara Bölgesi  400000  \n",
       "\n",
       "[1516 rows x 22 columns]"
      ]
     },
     "metadata": {},
     "output_type": "display_data"
    }
   ],
   "source": [
    "df"
   ]
  },
  {
   "cell_type": "code",
   "execution_count": 44,
   "id": "c6be8e36",
   "metadata": {},
   "outputs": [
    {
     "data": {
      "text/plain": [
       "0       Volkswagen Polo\n",
       "1       Volkswagen Polo\n",
       "2       Volkswagen Polo\n",
       "3       Volkswagen Polo\n",
       "4       Volkswagen Polo\n",
       "             ...       \n",
       "1512    Volkswagen Polo\n",
       "1513    Volkswagen Polo\n",
       "1514    Volkswagen Polo\n",
       "1515    Volkswagen Polo\n",
       "1516    Volkswagen Polo\n",
       "Name: Marka_Model, Length: 1516, dtype: object"
      ]
     },
     "execution_count": 44,
     "metadata": {},
     "output_type": "execute_result"
    }
   ],
   "source": [
    "Marka_Model_original=df[\"Marka_Model\"]\n",
    "Marka_Model_original"
   ]
  },
  {
   "cell_type": "code",
   "execution_count": 45,
   "id": "934e658b",
   "metadata": {},
   "outputs": [],
   "source": [
    "#pip install category_encoders"
   ]
  },
  {
   "cell_type": "code",
   "execution_count": 46,
   "id": "ca959fad",
   "metadata": {},
   "outputs": [],
   "source": [
    "import category_encoders  as ce"
   ]
  },
  {
   "cell_type": "code",
   "execution_count": 47,
   "id": "aa9c4c23",
   "metadata": {},
   "outputs": [
    {
     "data": {
      "application/vnd.jupyter.widget-view+json": {
       "model_id": "70d6c894e08e425996ee75f24a4c37b9"
      },
      "text/plain": [
       "      Marka_Model_0  Marka_Model_1  Marka_Model_2  Marka_Model_3  \\\n",
       "0                 0              0              0              0   \n",
       "1                 0              0              0              0   \n",
       "2                 0              0              0              0   \n",
       "3                 0              0              0              0   \n",
       "4                 0              0              0              0   \n",
       "...             ...            ...            ...            ...   \n",
       "1512              0              0              0              0   \n",
       "1513              0              0              0              0   \n",
       "1514              0              0              0              0   \n",
       "1515              0              0              0              0   \n",
       "1516              0              0              0              0   \n",
       "\n",
       "      Marka_Model_4  Marka_Model_5  Marka_Model_6  Marka_Model_7    MarkaAdi  \\\n",
       "0                 0              0              0              1  Volkswagen   \n",
       "1                 0              0              0              1  Volkswagen   \n",
       "2                 0              0              0              1  Volkswagen   \n",
       "3                 0              0              0              1  Volkswagen   \n",
       "4                 0              0              0              1  Volkswagen   \n",
       "...             ...            ...            ...            ...         ...   \n",
       "1512              0              0              0              1  Volkswagen   \n",
       "1513              0              0              0              1  Volkswagen   \n",
       "1514              0              0              0              1  Volkswagen   \n",
       "1515              0              0              0              1  Volkswagen   \n",
       "1516              0              0              0              1  Volkswagen   \n",
       "\n",
       "     Modeladi  ...  Kasa_Tipi  Konfor Group  \\\n",
       "0        Polo  ...  Hatchback             8   \n",
       "1        Polo  ...  Hatchback            10   \n",
       "2        Polo  ...  Hatchback             8   \n",
       "3        Polo  ...  Hatchback            11   \n",
       "4        Polo  ...  Hatchback            13   \n",
       "...       ...  ...        ...           ...   \n",
       "1512     Polo  ...  Hatchback            10   \n",
       "1513     Polo  ...  Hatchback             8   \n",
       "1514     Polo  ...  Hatchback            10   \n",
       "1515     Polo  ...  Hatchback             8   \n",
       "1516     Polo  ...  Hatchback             8   \n",
       "\n",
       "      Tsi(Turbo Supercharger Injection)   Yakit  Sanziman  Max_Güc  \\\n",
       "0                                    1   Benzin    Manuel       75   \n",
       "1                                  1.6    Dizel    Manuel       80   \n",
       "2                                  1.6    Dizel    Manuel       80   \n",
       "3                                  1.6    Dizel  Otomatik       95   \n",
       "4                                    1   Benzin  Otomatik       95   \n",
       "...                                 ...     ...       ...      ...   \n",
       "1512                               1.6    Dizel    Manuel       80   \n",
       "1513                                 1   Benzin    Manuel       75   \n",
       "1514                               1.6    Dizel    Manuel       80   \n",
       "1515                               1.6    Dizel    Manuel       80   \n",
       "1516                                 1   Benzin    Manuel       75   \n",
       "\n",
       "           Garanti      Aktarma              Konum   Fiyat  \n",
       "0     1 Yıla Kadar  Önden Çekiş    Akdeniz Bölgesi  400000  \n",
       "1       Garantisiz  Önden Çekiş    Marmara Bölgesi  411500  \n",
       "2       Garantisiz  Önden Çekiş  Karadeniz Bölgesi  415000  \n",
       "3     1 Yıla Kadar  Önden Çekiş    Marmara Bölgesi  445000  \n",
       "4       Garantisiz  Önden Çekiş    Marmara Bölgesi  450000  \n",
       "...            ...          ...                ...     ...  \n",
       "1512    Garantisiz  Önden Çekiş    Marmara Bölgesi  387500  \n",
       "1513    Garantisiz  Önden Çekiş    Marmara Bölgesi  390000  \n",
       "1514    Garantisiz  Önden Çekiş    Marmara Bölgesi  394500  \n",
       "1515  1 Yıla Kadar  Önden Çekiş        Ege Bölgesi  395000  \n",
       "1516    Garantisiz  Önden Çekiş    Marmara Bölgesi  400000  \n",
       "\n",
       "[1516 rows x 29 columns]"
      ]
     },
     "metadata": {},
     "output_type": "display_data"
    }
   ],
   "source": [
    "ce_bin = ce.binary.BinaryEncoder(cols = [\"Marka_Model\"])\n",
    "df=ce_bin.fit_transform(df)\n",
    "#df[\"Marka_Model\"]=ce_bin\n",
    "df\n"
   ]
  },
  {
   "cell_type": "code",
   "execution_count": 48,
   "id": "3170ab46",
   "metadata": {
    "scrolled": true
   },
   "outputs": [
    {
     "data": {
      "text/html": [
       "<style>#sk-container-id-1 {color: black;background-color: white;}#sk-container-id-1 pre{padding: 0;}#sk-container-id-1 div.sk-toggleable {background-color: white;}#sk-container-id-1 label.sk-toggleable__label {cursor: pointer;display: block;width: 100%;margin-bottom: 0;padding: 0.3em;box-sizing: border-box;text-align: center;}#sk-container-id-1 label.sk-toggleable__label-arrow:before {content: \"▸\";float: left;margin-right: 0.25em;color: #696969;}#sk-container-id-1 label.sk-toggleable__label-arrow:hover:before {color: black;}#sk-container-id-1 div.sk-estimator:hover label.sk-toggleable__label-arrow:before {color: black;}#sk-container-id-1 div.sk-toggleable__content {max-height: 0;max-width: 0;overflow: hidden;text-align: left;background-color: #f0f8ff;}#sk-container-id-1 div.sk-toggleable__content pre {margin: 0.2em;color: black;border-radius: 0.25em;background-color: #f0f8ff;}#sk-container-id-1 input.sk-toggleable__control:checked~div.sk-toggleable__content {max-height: 200px;max-width: 100%;overflow: auto;}#sk-container-id-1 input.sk-toggleable__control:checked~label.sk-toggleable__label-arrow:before {content: \"▾\";}#sk-container-id-1 div.sk-estimator input.sk-toggleable__control:checked~label.sk-toggleable__label {background-color: #d4ebff;}#sk-container-id-1 div.sk-label input.sk-toggleable__control:checked~label.sk-toggleable__label {background-color: #d4ebff;}#sk-container-id-1 input.sk-hidden--visually {border: 0;clip: rect(1px 1px 1px 1px);clip: rect(1px, 1px, 1px, 1px);height: 1px;margin: -1px;overflow: hidden;padding: 0;position: absolute;width: 1px;}#sk-container-id-1 div.sk-estimator {font-family: monospace;background-color: #f0f8ff;border: 1px dotted black;border-radius: 0.25em;box-sizing: border-box;margin-bottom: 0.5em;}#sk-container-id-1 div.sk-estimator:hover {background-color: #d4ebff;}#sk-container-id-1 div.sk-parallel-item::after {content: \"\";width: 100%;border-bottom: 1px solid gray;flex-grow: 1;}#sk-container-id-1 div.sk-label:hover label.sk-toggleable__label {background-color: #d4ebff;}#sk-container-id-1 div.sk-serial::before {content: \"\";position: absolute;border-left: 1px solid gray;box-sizing: border-box;top: 0;bottom: 0;left: 50%;z-index: 0;}#sk-container-id-1 div.sk-serial {display: flex;flex-direction: column;align-items: center;background-color: white;padding-right: 0.2em;padding-left: 0.2em;position: relative;}#sk-container-id-1 div.sk-item {position: relative;z-index: 1;}#sk-container-id-1 div.sk-parallel {display: flex;align-items: stretch;justify-content: center;background-color: white;position: relative;}#sk-container-id-1 div.sk-item::before, #sk-container-id-1 div.sk-parallel-item::before {content: \"\";position: absolute;border-left: 1px solid gray;box-sizing: border-box;top: 0;bottom: 0;left: 50%;z-index: -1;}#sk-container-id-1 div.sk-parallel-item {display: flex;flex-direction: column;z-index: 1;position: relative;background-color: white;}#sk-container-id-1 div.sk-parallel-item:first-child::after {align-self: flex-end;width: 50%;}#sk-container-id-1 div.sk-parallel-item:last-child::after {align-self: flex-start;width: 50%;}#sk-container-id-1 div.sk-parallel-item:only-child::after {width: 0;}#sk-container-id-1 div.sk-dashed-wrapped {border: 1px dashed gray;margin: 0 0.4em 0.5em 0.4em;box-sizing: border-box;padding-bottom: 0.4em;background-color: white;}#sk-container-id-1 div.sk-label label {font-family: monospace;font-weight: bold;display: inline-block;line-height: 1.2em;}#sk-container-id-1 div.sk-label-container {text-align: center;}#sk-container-id-1 div.sk-container {/* jupyter's `normalize.less` sets `[hidden] { display: none; }` but bootstrap.min.css set `[hidden] { display: none !important; }` so we also need the `!important` here to be able to override the default hidden behavior on the sphinx rendered scikit-learn.org. See: https://github.com/scikit-learn/scikit-learn/issues/21755 */display: inline-block !important;position: relative;}#sk-container-id-1 div.sk-text-repr-fallback {display: none;}</style><div id=\"sk-container-id-1\" class=\"sk-top-container\"><div class=\"sk-text-repr-fallback\"><pre>BinaryEncoder(cols=[&#x27;Marka_Model&#x27;],\n",
       "              mapping=[{&#x27;col&#x27;: &#x27;Marka_Model&#x27;,\n",
       "                        &#x27;mapping&#x27;:       Marka_Model_0  Marka_Model_1  Marka_Model_2  Marka_Model_3  \\\n",
       " 1                0              0              0              0   \n",
       " 2                0              0              0              0   \n",
       " 3                0              0              0              0   \n",
       " 4                0              0              0              0   \n",
       " 5                0              0              0              0   \n",
       "...             ...            ...            ...            ...   \n",
       " 168              1              0              1              0   \n",
       " 169              1              0              1              0   \n",
       " 170              1              0              1              0   \n",
       "-1                0              0              0              0   \n",
       "-2                0              0              0              0   \n",
       "\n",
       "      Marka_Model_4  Marka_Model_5  Marka_Model_6  Marka_Model_7  \n",
       " 1                0              0              0              1  \n",
       " 2                0              0              1              0  \n",
       " 3                0              0              1              1  \n",
       " 4                0              1              0              0  \n",
       " 5                0              1              0              1  \n",
       "...             ...            ...            ...            ...  \n",
       " 168              1              0              0              0  \n",
       " 169              1              0              0              1  \n",
       " 170              1              0              1              0  \n",
       "-1                0              0              0              0  \n",
       "-2                0              0              0              0  \n",
       "\n",
       "[172 rows x 8 columns]}])</pre><b>In a Jupyter environment, please rerun this cell to show the HTML representation or trust the notebook. <br />On GitHub, the HTML representation is unable to render, please try loading this page with nbviewer.org.</b></div><div class=\"sk-container\" hidden><div class=\"sk-item\"><div class=\"sk-estimator sk-toggleable\"><input class=\"sk-toggleable__control sk-hidden--visually\" id=\"sk-estimator-id-1\" type=\"checkbox\" checked><label for=\"sk-estimator-id-1\" class=\"sk-toggleable__label sk-toggleable__label-arrow\">BinaryEncoder</label><div class=\"sk-toggleable__content\"><pre>BinaryEncoder(cols=[&#x27;Marka_Model&#x27;],\n",
       "              mapping=[{&#x27;col&#x27;: &#x27;Marka_Model&#x27;,\n",
       "                        &#x27;mapping&#x27;:       Marka_Model_0  Marka_Model_1  Marka_Model_2  Marka_Model_3  \\\n",
       " 1                0              0              0              0   \n",
       " 2                0              0              0              0   \n",
       " 3                0              0              0              0   \n",
       " 4                0              0              0              0   \n",
       " 5                0              0              0              0   \n",
       "...             ...            ...            ...            ...   \n",
       " 168              1              0              1              0   \n",
       " 169              1              0              1              0   \n",
       " 170              1              0              1              0   \n",
       "-1                0              0              0              0   \n",
       "-2                0              0              0              0   \n",
       "\n",
       "      Marka_Model_4  Marka_Model_5  Marka_Model_6  Marka_Model_7  \n",
       " 1                0              0              0              1  \n",
       " 2                0              0              1              0  \n",
       " 3                0              0              1              1  \n",
       " 4                0              1              0              0  \n",
       " 5                0              1              0              1  \n",
       "...             ...            ...            ...            ...  \n",
       " 168              1              0              0              0  \n",
       " 169              1              0              0              1  \n",
       " 170              1              0              1              0  \n",
       "-1                0              0              0              0  \n",
       "-2                0              0              0              0  \n",
       "\n",
       "[172 rows x 8 columns]}])</pre></div></div></div></div></div>"
      ],
      "text/plain": [
       "BinaryEncoder(cols=['Marka_Model'],\n",
       "              mapping=[{'col': 'Marka_Model',\n",
       "                        'mapping':       Marka_Model_0  Marka_Model_1  Marka_Model_2  Marka_Model_3  \\\n",
       " 1                0              0              0              0   \n",
       " 2                0              0              0              0   \n",
       " 3                0              0              0              0   \n",
       " 4                0              0              0              0   \n",
       " 5                0              0              0              0   \n",
       "...             ...            ...            ...            ...   \n",
       " 168              1              0              1              0   \n",
       " 169              1              0              1              0   \n",
       " 170              1              0              1              0   \n",
       "-1                0              0              0              0   \n",
       "-2                0              0              0              0   \n",
       "\n",
       "      Marka_Model_4  Marka_Model_5  Marka_Model_6  Marka_Model_7  \n",
       " 1                0              0              0              1  \n",
       " 2                0              0              1              0  \n",
       " 3                0              0              1              1  \n",
       " 4                0              1              0              0  \n",
       " 5                0              1              0              1  \n",
       "...             ...            ...            ...            ...  \n",
       " 168              1              0              0              0  \n",
       " 169              1              0              0              1  \n",
       " 170              1              0              1              0  \n",
       "-1                0              0              0              0  \n",
       "-2                0              0              0              0  \n",
       "\n",
       "[172 rows x 8 columns]}])"
      ]
     },
     "execution_count": 48,
     "metadata": {},
     "output_type": "execute_result"
    }
   ],
   "source": [
    "ce_bin"
   ]
  },
  {
   "cell_type": "code",
   "execution_count": 49,
   "id": "4c1a040c",
   "metadata": {},
   "outputs": [
    {
     "data": {
      "application/vnd.jupyter.widget-view+json": {
       "model_id": "07ce34839f594bfb87c2e382621a8dc0"
      },
      "text/plain": [
       "      Marka_Model_0  Marka_Model_1  Marka_Model_2  Marka_Model_3  \\\n",
       "0                 0              0              0              0   \n",
       "1                 0              0              0              0   \n",
       "2                 0              0              0              0   \n",
       "3                 0              0              0              0   \n",
       "4                 0              0              0              0   \n",
       "...             ...            ...            ...            ...   \n",
       "1512              0              0              0              0   \n",
       "1513              0              0              0              0   \n",
       "1514              0              0              0              0   \n",
       "1515              0              0              0              0   \n",
       "1516              0              0              0              0   \n",
       "\n",
       "      Marka_Model_4  Marka_Model_5  Marka_Model_6  Marka_Model_7    Hiz  \\\n",
       "0                 0              0              0              1  170.0   \n",
       "1                 0              0              0              1  175.0   \n",
       "2                 0              0              0              1  175.0   \n",
       "3                 0              0              0              1  185.0   \n",
       "4                 0              0              0              1  187.0   \n",
       "...             ...            ...            ...            ...    ...   \n",
       "1512              0              0              0              1  175.0   \n",
       "1513              0              0              0              1  170.0   \n",
       "1514              0              0              0              1  175.0   \n",
       "1515              0              0              0              1  175.0   \n",
       "1516              0              0              0              1  170.0   \n",
       "\n",
       "      MaxTork  ...  Kasa_Tipi_Arazi aracı  Kasa_Tipi_Cabriolet  \\\n",
       "0        95.0  ...                      0                    0   \n",
       "1       230.0  ...                      0                    0   \n",
       "2       230.0  ...                      0                    0   \n",
       "3       250.0  ...                      0                    0   \n",
       "4       175.0  ...                      0                    0   \n",
       "...       ...  ...                    ...                  ...   \n",
       "1512    230.0  ...                      0                    0   \n",
       "1513     95.0  ...                      0                    0   \n",
       "1514    230.0  ...                      0                    0   \n",
       "1515    230.0  ...                      0                    0   \n",
       "1516     95.0  ...                      0                    0   \n",
       "\n",
       "      Kasa_Tipi_Cityvan  Kasa_Tipi_Coupe  Kasa_Tipi_Hatchback  Kasa_Tipi_MPV  \\\n",
       "0                     0                0                    1              0   \n",
       "1                     0                0                    1              0   \n",
       "2                     0                0                    1              0   \n",
       "3                     0                0                    1              0   \n",
       "4                     0                0                    1              0   \n",
       "...                 ...              ...                  ...            ...   \n",
       "1512                  0                0                    1              0   \n",
       "1513                  0                0                    1              0   \n",
       "1514                  0                0                    1              0   \n",
       "1515                  0                0                    1              0   \n",
       "1516                  0                0                    1              0   \n",
       "\n",
       "      Kasa_Tipi_Minibüs Kasa_Tipi_Pick-up Kasa_Tipi_Sedan Kasa_Tipi_Wagon  \n",
       "0                     0                 0               0               0  \n",
       "1                     0                 0               0               0  \n",
       "2                     0                 0               0               0  \n",
       "3                     0                 0               0               0  \n",
       "4                     0                 0               0               0  \n",
       "...                 ...               ...             ...             ...  \n",
       "1512                  0                 0               0               0  \n",
       "1513                  0                 0               0               0  \n",
       "1514                  0                 0               0               0  \n",
       "1515                  0                 0               0               0  \n",
       "1516                  0                 0               0               0  \n",
       "\n",
       "[1516 rows x 71 columns]"
      ]
     },
     "metadata": {},
     "output_type": "display_data"
    }
   ],
   "source": [
    "import pandas as pd; import numpy as np\n",
    "# Step: Drop columns\n",
    "df = df.drop(columns=['MarkaAdi', 'Modeladi'])\n",
    "\n",
    "# Step: Rearranged the order of the columns\n",
    "#df = df[['Marka_Model'] + ['Renk', 'Hiz', 'MaxTork', 'Silindir', 'Depo', 'Tuketim', 'Sübap', 'Guvenlik Group', 'Model_Yili', 'Kasa_Tipi', 'Konfor Group', 'Tsi(Turbo Supercharger Injection)', 'Yakit', 'Sanziman', 'Max_Güc', 'Garanti', 'Aktarma', 'Konum', 'Fiyat']]\n",
    "\n",
    "import pandas as pd; import numpy as np\n",
    "# Step: OneHotEncode column(s) Renk\n",
    "df = pd.get_dummies(df, columns=['Renk'], drop_first=False, dummy_na=False)\n",
    "\n",
    "# Step: OneHotEncode column(s) Kasa_Tipi\n",
    "df = pd.get_dummies(df, columns=['Kasa_Tipi'], drop_first=False, dummy_na=False)\n",
    "\n",
    "# Step: LabelEncoder\n",
    "df['Yakit_label'] = df['Yakit'].factorize(sort=False, na_sentinel=-1)[0]\n",
    "\n",
    "# Step: Drop columns\n",
    "df = df.drop(columns=['Yakit_label'])\n",
    "\n",
    "df"
   ]
  },
  {
   "cell_type": "code",
   "execution_count": 50,
   "id": "f131aad6",
   "metadata": {},
   "outputs": [],
   "source": [
    "yakit_original=df[\"Yakit\"]\n",
    "garanti_original=df[\"Garanti\"]"
   ]
  },
  {
   "cell_type": "code",
   "execution_count": 51,
   "id": "da0d5983",
   "metadata": {},
   "outputs": [],
   "source": [
    "Aktarma_dictB={\n",
    "    \"Önden Çekiş\":0,\n",
    "    \"4x4\":2,\n",
    "    \"Arkadan İtiş\":1\n",
    "}\n",
    "aktarma_original=df[\"Aktarma\"]"
   ]
  },
  {
   "cell_type": "code",
   "execution_count": 52,
   "id": "bd6cdd2f",
   "metadata": {},
   "outputs": [
    {
     "data": {
      "text/plain": [
       "0       1 Yıla Kadar\n",
       "1         Garantisiz\n",
       "2         Garantisiz\n",
       "3       1 Yıla Kadar\n",
       "4         Garantisiz\n",
       "            ...     \n",
       "1512      Garantisiz\n",
       "1513      Garantisiz\n",
       "1514      Garantisiz\n",
       "1515    1 Yıla Kadar\n",
       "1516      Garantisiz\n",
       "Name: Garanti, Length: 1516, dtype: object"
      ]
     },
     "execution_count": 52,
     "metadata": {},
     "output_type": "execute_result"
    }
   ],
   "source": [
    "garanti_original"
   ]
  },
  {
   "cell_type": "code",
   "execution_count": 53,
   "id": "0495b326",
   "metadata": {},
   "outputs": [
    {
     "data": {
      "application/vnd.jupyter.widget-view+json": {
       "model_id": "eff1d49142b7425b9476cba4b54fbe97"
      },
      "text/plain": [
       "      Marka_Model_0  Marka_Model_1  Marka_Model_2  Marka_Model_3  \\\n",
       "0                 0              0              0              0   \n",
       "1                 0              0              0              0   \n",
       "2                 0              0              0              0   \n",
       "3                 0              0              0              0   \n",
       "4                 0              0              0              0   \n",
       "...             ...            ...            ...            ...   \n",
       "1512              0              0              0              0   \n",
       "1513              0              0              0              0   \n",
       "1514              0              0              0              0   \n",
       "1515              0              0              0              0   \n",
       "1516              0              0              0              0   \n",
       "\n",
       "      Marka_Model_4  Marka_Model_5  Marka_Model_6  Marka_Model_7    Hiz  \\\n",
       "0                 0              0              0              1  170.0   \n",
       "1                 0              0              0              1  175.0   \n",
       "2                 0              0              0              1  175.0   \n",
       "3                 0              0              0              1  185.0   \n",
       "4                 0              0              0              1  187.0   \n",
       "...             ...            ...            ...            ...    ...   \n",
       "1512              0              0              0              1  175.0   \n",
       "1513              0              0              0              1  170.0   \n",
       "1514              0              0              0              1  175.0   \n",
       "1515              0              0              0              1  175.0   \n",
       "1516              0              0              0              1  170.0   \n",
       "\n",
       "      MaxTork  ...  Kasa_Tipi_Sedan  Kasa_Tipi_Wagon  Sanziman  Model_Yili  \\\n",
       "0        95.0  ...                0                0         0          14   \n",
       "1       230.0  ...                0                0         0          14   \n",
       "2       230.0  ...                0                0         0          14   \n",
       "3       250.0  ...                0                0         1          14   \n",
       "4       175.0  ...                0                0         1          14   \n",
       "...       ...  ...              ...              ...       ...         ...   \n",
       "1512    230.0  ...                0                0         0          14   \n",
       "1513     95.0  ...                0                0         0          14   \n",
       "1514    230.0  ...                0                0         0          14   \n",
       "1515    230.0  ...                0                0         0          14   \n",
       "1516     95.0  ...                0                0         0          14   \n",
       "\n",
       "      Konum_Akdeniz Bölgesi  Konum_Ege Bölgesi  \\\n",
       "0                         1                  0   \n",
       "1                         0                  0   \n",
       "2                         0                  0   \n",
       "3                         0                  0   \n",
       "4                         0                  0   \n",
       "...                     ...                ...   \n",
       "1512                      0                  0   \n",
       "1513                      0                  0   \n",
       "1514                      0                  0   \n",
       "1515                      0                  1   \n",
       "1516                      0                  0   \n",
       "\n",
       "     Konum_GüneyDoğu Anadolu Bölgesi  Konum_Karadeniz Bölgesi  \\\n",
       "0                                  0                        0   \n",
       "1                                  0                        0   \n",
       "2                                  0                        1   \n",
       "3                                  0                        0   \n",
       "4                                  0                        0   \n",
       "...                              ...                      ...   \n",
       "1512                               0                        0   \n",
       "1513                               0                        0   \n",
       "1514                               0                        0   \n",
       "1515                               0                        0   \n",
       "1516                               0                        0   \n",
       "\n",
       "      Konum_Marmara Bölgesi  Konum_İç Anadolu Bölgesi  \n",
       "0                         0                         0  \n",
       "1                         1                         0  \n",
       "2                         0                         0  \n",
       "3                         1                         0  \n",
       "4                         1                         0  \n",
       "...                     ...                       ...  \n",
       "1512                      1                         0  \n",
       "1513                      1                         0  \n",
       "1514                      1                         0  \n",
       "1515                      0                         0  \n",
       "1516                      1                         0  \n",
       "\n",
       "[1516 rows x 76 columns]"
      ]
     },
     "metadata": {},
     "output_type": "display_data"
    }
   ],
   "source": [
    "Yakit_dictB={\n",
    "    \"Dizel\":2,\n",
    "    \"Benzin\":3,\n",
    "    \"LPG\":1\n",
    "}\n",
    "\n",
    "df[\"Yakit\"]=df[\"Yakit\"].map(Yakit_dictB)\n",
    "import pandas as pd; import numpy as np\n",
    "# Step: LabelEncoder\n",
    "df['Sanziman_label'] = df['Sanziman'].factorize(sort=True, na_sentinel=-1)[0]\n",
    "\n",
    "# Step: LabelEncoder\n",
    "df['Model_Yili_label'] = df['Model_Yili'].factorize(sort=True, na_sentinel=-1)[0]\n",
    "\n",
    "Garanti_dictB={\n",
    "    \"Garantisiz\":0,\n",
    "    \"1 YIldan Uzun\":2,\n",
    "    \"1 Yıla Kadar\":1\n",
    "}\n",
    "\n",
    "\n",
    "\n",
    "df[\"Garanti\"]=df[\"Garanti\"].map(Garanti_dictB)\n",
    "\n",
    "\n",
    "Aktarma_dictB={\n",
    "    \"Önden Çekiş\":0,\n",
    "    \"4x4\":2,\n",
    "    \"Arkadan İtiş\":1\n",
    "}\n",
    "df[\"Aktarma\"]=df[\"Aktarma\"].map(Aktarma_dictB)\n",
    "\n",
    "\n",
    "import pandas as pd; import numpy as np\n",
    "# Step: Drop columns\n",
    "df = df.drop(columns=['Model_Yili', 'Sanziman'])\n",
    "\n",
    "# Step: Rename multiple columns\n",
    "df = df.rename(columns={'Model_Yili_label': 'Model_Yili', 'Sanziman_label': 'Sanziman'})\n",
    "\n",
    "\n",
    "\n",
    "\n",
    "# Step: OneHotEncode column(s) Konum\n",
    "df = pd.get_dummies(df, columns=['Konum'], drop_first=False, dummy_na=False)\n",
    "\n",
    "# Step: Rearranged the order of the columns\n",
    "\n",
    "df"
   ]
  },
  {
   "cell_type": "code",
   "execution_count": 54,
   "id": "e51151a9",
   "metadata": {},
   "outputs": [
    {
     "data": {
      "application/vnd.jupyter.widget-view+json": {
       "model_id": "9206c44a35814f3a8945cbfd6b2ce59d"
      },
      "text/plain": [
       "      Marka_Model_0  Marka_Model_1  Marka_Model_2  Marka_Model_3  \\\n",
       "0                 0              0              0              0   \n",
       "1                 0              0              0              0   \n",
       "2                 0              0              0              0   \n",
       "3                 0              0              0              0   \n",
       "4                 0              0              0              0   \n",
       "...             ...            ...            ...            ...   \n",
       "1512              0              0              0              0   \n",
       "1513              0              0              0              0   \n",
       "1514              0              0              0              0   \n",
       "1515              0              0              0              0   \n",
       "1516              0              0              0              0   \n",
       "\n",
       "      Marka_Model_4  Marka_Model_5  Marka_Model_6  Marka_Model_7    Hiz  \\\n",
       "0                 0              0              0              1  170.0   \n",
       "1                 0              0              0              1  175.0   \n",
       "2                 0              0              0              1  175.0   \n",
       "3                 0              0              0              1  185.0   \n",
       "4                 0              0              0              1  187.0   \n",
       "...             ...            ...            ...            ...    ...   \n",
       "1512              0              0              0              1  175.0   \n",
       "1513              0              0              0              1  170.0   \n",
       "1514              0              0              0              1  175.0   \n",
       "1515              0              0              0              1  175.0   \n",
       "1516              0              0              0              1  170.0   \n",
       "\n",
       "      MaxTork  ...  Kasa_Tipi_Sedan  Kasa_Tipi_Wagon  Sanziman  Model_Yili  \\\n",
       "0        95.0  ...                0                0         0          14   \n",
       "1       230.0  ...                0                0         0          14   \n",
       "2       230.0  ...                0                0         0          14   \n",
       "3       250.0  ...                0                0         1          14   \n",
       "4       175.0  ...                0                0         1          14   \n",
       "...       ...  ...              ...              ...       ...         ...   \n",
       "1512    230.0  ...                0                0         0          14   \n",
       "1513     95.0  ...                0                0         0          14   \n",
       "1514    230.0  ...                0                0         0          14   \n",
       "1515    230.0  ...                0                0         0          14   \n",
       "1516     95.0  ...                0                0         0          14   \n",
       "\n",
       "      Konum_Akdeniz Bölgesi  Konum_Ege Bölgesi  \\\n",
       "0                         1                  0   \n",
       "1                         0                  0   \n",
       "2                         0                  0   \n",
       "3                         0                  0   \n",
       "4                         0                  0   \n",
       "...                     ...                ...   \n",
       "1512                      0                  0   \n",
       "1513                      0                  0   \n",
       "1514                      0                  0   \n",
       "1515                      0                  1   \n",
       "1516                      0                  0   \n",
       "\n",
       "      Konum_GüneyDoğu Anadolu Bölgesi  Konum_Karadeniz Bölgesi  \\\n",
       "0                                   0                        0   \n",
       "1                                   0                        0   \n",
       "2                                   0                        1   \n",
       "3                                   0                        0   \n",
       "4                                   0                        0   \n",
       "...                               ...                      ...   \n",
       "1512                                0                        0   \n",
       "1513                                0                        0   \n",
       "1514                                0                        0   \n",
       "1515                                0                        0   \n",
       "1516                                0                        0   \n",
       "\n",
       "      Konum_Marmara Bölgesi  Konum_İç Anadolu Bölgesi  \n",
       "0                         0                         0  \n",
       "1                         1                         0  \n",
       "2                         0                         0  \n",
       "3                         1                         0  \n",
       "4                         1                         0  \n",
       "...                     ...                       ...  \n",
       "1512                      1                         0  \n",
       "1513                      1                         0  \n",
       "1514                      1                         0  \n",
       "1515                      0                         0  \n",
       "1516                      1                         0  \n",
       "\n",
       "[1516 rows x 76 columns]"
      ]
     },
     "metadata": {},
     "output_type": "display_data"
    }
   ],
   "source": [
    "import pandas as pd; import numpy as np\n",
    "# Step: Change data type of Tsi(Turbo Supercharger Injection) to Float\n",
    "df['Tsi(Turbo Supercharger Injection)'] = pd.to_numeric(df['Tsi(Turbo Supercharger Injection)'], downcast='float', errors='coerce')\n",
    "\n",
    "import pandas as pd; import numpy as np\n",
    "# Step: Replace missing values\n",
    "df[['Hiz']] = df[['Hiz']].fillna(df[['Hiz']].mean())\n",
    "\n",
    "# Step: Replace missing values\n",
    "df[['MaxTork']] = df[['MaxTork']].fillna(df[['MaxTork']].median())\n",
    "\n",
    "# Step: Replace missing values\n",
    "df[['Tuketim']] = df[['Tuketim']].fillna(df[['Tuketim']].mean())\n",
    "\n",
    "# Step: Replace missing values\n",
    "df[['Sübap']] = df[['Sübap']].fillna(df[['Sübap']].mean())\n",
    "\n",
    "df"
   ]
  },
  {
   "cell_type": "markdown",
   "id": "04345114",
   "metadata": {},
   "source": [
    "## Model"
   ]
  },
  {
   "cell_type": "code",
   "execution_count": 55,
   "id": "56150af2",
   "metadata": {},
   "outputs": [],
   "source": [
    "import xgboost as xgb\n",
    "from sklearn.model_selection import KFold, GridSearchCV, cross_val_score"
   ]
  },
  {
   "cell_type": "code",
   "execution_count": 56,
   "id": "f4dffb16",
   "metadata": {},
   "outputs": [
    {
     "data": {
      "application/vnd.jupyter.widget-view+json": {
       "model_id": "3bf1d305ce004cc5866e479e7c86a0a5"
      },
      "text/plain": [
       "      Marka_Model_0  Marka_Model_1  Marka_Model_2  Marka_Model_3  \\\n",
       "0                 0              0              0              0   \n",
       "1                 0              0              0              0   \n",
       "2                 0              0              0              0   \n",
       "3                 0              0              0              0   \n",
       "4                 0              0              0              0   \n",
       "...             ...            ...            ...            ...   \n",
       "1512              0              0              0              0   \n",
       "1513              0              0              0              0   \n",
       "1514              0              0              0              0   \n",
       "1515              0              0              0              0   \n",
       "1516              0              0              0              0   \n",
       "\n",
       "      Marka_Model_4  Marka_Model_5  Marka_Model_6  Marka_Model_7    Hiz  \\\n",
       "0                 0              0              0              1  170.0   \n",
       "1                 0              0              0              1  175.0   \n",
       "2                 0              0              0              1  175.0   \n",
       "3                 0              0              0              1  185.0   \n",
       "4                 0              0              0              1  187.0   \n",
       "...             ...            ...            ...            ...    ...   \n",
       "1512              0              0              0              1  175.0   \n",
       "1513              0              0              0              1  170.0   \n",
       "1514              0              0              0              1  175.0   \n",
       "1515              0              0              0              1  175.0   \n",
       "1516              0              0              0              1  170.0   \n",
       "\n",
       "      MaxTork  ...  Kasa_Tipi_Wagon  Sanziman  Model_Yili  \\\n",
       "0        95.0  ...                0         0          14   \n",
       "1       230.0  ...                0         0          14   \n",
       "2       230.0  ...                0         0          14   \n",
       "3       250.0  ...                0         1          14   \n",
       "4       175.0  ...                0         1          14   \n",
       "...       ...  ...              ...       ...         ...   \n",
       "1512    230.0  ...                0         0          14   \n",
       "1513     95.0  ...                0         0          14   \n",
       "1514    230.0  ...                0         0          14   \n",
       "1515    230.0  ...                0         0          14   \n",
       "1516     95.0  ...                0         0          14   \n",
       "\n",
       "      Konum_Akdeniz Bölgesi  Konum_Ege Bölgesi  \\\n",
       "0                         1                  0   \n",
       "1                         0                  0   \n",
       "2                         0                  0   \n",
       "3                         0                  0   \n",
       "4                         0                  0   \n",
       "...                     ...                ...   \n",
       "1512                      0                  0   \n",
       "1513                      0                  0   \n",
       "1514                      0                  0   \n",
       "1515                      0                  1   \n",
       "1516                      0                  0   \n",
       "\n",
       "      Konum_GüneyDoğu Anadolu Bölgesi  Konum_Karadeniz Bölgesi  \\\n",
       "0                                   0                        0   \n",
       "1                                   0                        0   \n",
       "2                                   0                        1   \n",
       "3                                   0                        0   \n",
       "4                                   0                        0   \n",
       "...                               ...                      ...   \n",
       "1512                                0                        0   \n",
       "1513                                0                        0   \n",
       "1514                                0                        0   \n",
       "1515                                0                        0   \n",
       "1516                                0                        0   \n",
       "\n",
       "      Konum_Marmara Bölgesi  Konum_İç Anadolu Bölgesi   Fiyat  \n",
       "0                         0                         0  400000  \n",
       "1                         1                         0  411500  \n",
       "2                         0                         0  415000  \n",
       "3                         1                         0  445000  \n",
       "4                         1                         0  450000  \n",
       "...                     ...                       ...     ...  \n",
       "1512                      1                         0  387500  \n",
       "1513                      1                         0  390000  \n",
       "1514                      1                         0  394500  \n",
       "1515                      0                         0  395000  \n",
       "1516                      1                         0  400000  \n",
       "\n",
       "[1516 rows x 76 columns]"
      ]
     },
     "metadata": {},
     "output_type": "display_data"
    }
   ],
   "source": [
    "import pandas as pd; import numpy as np\n",
    "# Step: Rearranged the order of the columns\n",
    "df = df[[x for x in df.columns if x not in ['Fiyat']] + ['Fiyat']]\n",
    "\n",
    "df"
   ]
  },
  {
   "cell_type": "code",
   "execution_count": 57,
   "id": "d3e8f9be",
   "metadata": {},
   "outputs": [],
   "source": [
    "X = df.iloc[:,:-1]\n",
    "y = df.iloc[:,-1] #fiyat"
   ]
  },
  {
   "cell_type": "code",
   "execution_count": 58,
   "id": "64f428ea",
   "metadata": {},
   "outputs": [
    {
     "data": {
      "application/vnd.jupyter.widget-view+json": {
       "model_id": "459177dc811947aca33fe224df8175a1"
      },
      "text/plain": [
       "      Marka_Model_0  Marka_Model_1  Marka_Model_2  Marka_Model_3  \\\n",
       "0                 0              0              0              0   \n",
       "1                 0              0              0              0   \n",
       "2                 0              0              0              0   \n",
       "3                 0              0              0              0   \n",
       "4                 0              0              0              0   \n",
       "...             ...            ...            ...            ...   \n",
       "1512              0              0              0              0   \n",
       "1513              0              0              0              0   \n",
       "1514              0              0              0              0   \n",
       "1515              0              0              0              0   \n",
       "1516              0              0              0              0   \n",
       "\n",
       "      Marka_Model_4  Marka_Model_5  Marka_Model_6  Marka_Model_7    Hiz  \\\n",
       "0                 0              0              0              1  170.0   \n",
       "1                 0              0              0              1  175.0   \n",
       "2                 0              0              0              1  175.0   \n",
       "3                 0              0              0              1  185.0   \n",
       "4                 0              0              0              1  187.0   \n",
       "...             ...            ...            ...            ...    ...   \n",
       "1512              0              0              0              1  175.0   \n",
       "1513              0              0              0              1  170.0   \n",
       "1514              0              0              0              1  175.0   \n",
       "1515              0              0              0              1  175.0   \n",
       "1516              0              0              0              1  170.0   \n",
       "\n",
       "      MaxTork  ...  Kasa_Tipi_Sedan  Kasa_Tipi_Wagon  Sanziman  Model_Yili  \\\n",
       "0        95.0  ...                0                0         0          14   \n",
       "1       230.0  ...                0                0         0          14   \n",
       "2       230.0  ...                0                0         0          14   \n",
       "3       250.0  ...                0                0         1          14   \n",
       "4       175.0  ...                0                0         1          14   \n",
       "...       ...  ...              ...              ...       ...         ...   \n",
       "1512    230.0  ...                0                0         0          14   \n",
       "1513     95.0  ...                0                0         0          14   \n",
       "1514    230.0  ...                0                0         0          14   \n",
       "1515    230.0  ...                0                0         0          14   \n",
       "1516     95.0  ...                0                0         0          14   \n",
       "\n",
       "      Konum_Akdeniz Bölgesi  Konum_Ege Bölgesi  \\\n",
       "0                         1                  0   \n",
       "1                         0                  0   \n",
       "2                         0                  0   \n",
       "3                         0                  0   \n",
       "4                         0                  0   \n",
       "...                     ...                ...   \n",
       "1512                      0                  0   \n",
       "1513                      0                  0   \n",
       "1514                      0                  0   \n",
       "1515                      0                  1   \n",
       "1516                      0                  0   \n",
       "\n",
       "      Konum_GüneyDoğu Anadolu Bölgesi  Konum_Karadeniz Bölgesi  \\\n",
       "0                                   0                        0   \n",
       "1                                   0                        0   \n",
       "2                                   0                        1   \n",
       "3                                   0                        0   \n",
       "4                                   0                        0   \n",
       "...                               ...                      ...   \n",
       "1512                                0                        0   \n",
       "1513                                0                        0   \n",
       "1514                                0                        0   \n",
       "1515                                0                        0   \n",
       "1516                                0                        0   \n",
       "\n",
       "      Konum_Marmara Bölgesi  Konum_İç Anadolu Bölgesi  \n",
       "0                         0                         0  \n",
       "1                         1                         0  \n",
       "2                         0                         0  \n",
       "3                         1                         0  \n",
       "4                         1                         0  \n",
       "...                     ...                       ...  \n",
       "1512                      1                         0  \n",
       "1513                      1                         0  \n",
       "1514                      1                         0  \n",
       "1515                      0                         0  \n",
       "1516                      1                         0  \n",
       "\n",
       "[1516 rows x 75 columns]"
      ]
     },
     "metadata": {},
     "output_type": "display_data"
    }
   ],
   "source": [
    "X"
   ]
  },
  {
   "cell_type": "code",
   "execution_count": 59,
   "id": "2fd33f8d",
   "metadata": {},
   "outputs": [
    {
     "data": {
      "text/plain": [
       "0       400000\n",
       "1       411500\n",
       "2       415000\n",
       "3       445000\n",
       "4       450000\n",
       "         ...  \n",
       "1512    387500\n",
       "1513    390000\n",
       "1514    394500\n",
       "1515    395000\n",
       "1516    400000\n",
       "Name: Fiyat, Length: 1516, dtype: Int64"
      ]
     },
     "execution_count": 59,
     "metadata": {},
     "output_type": "execute_result"
    }
   ],
   "source": [
    "y"
   ]
  },
  {
   "cell_type": "code",
   "execution_count": 60,
   "id": "39365aee",
   "metadata": {},
   "outputs": [],
   "source": [
    "from sklearn.model_selection import train_test_split\n",
    "X_train, X_test, y_train, y_test = train_test_split(X, y, test_size=0.20,random_state=23)"
   ]
  },
  {
   "cell_type": "code",
   "execution_count": 61,
   "id": "996c95f1",
   "metadata": {},
   "outputs": [],
   "source": [
    "#model = xgb.XGBRegressor()"
   ]
  },
  {
   "cell_type": "code",
   "execution_count": 62,
   "id": "01903207",
   "metadata": {},
   "outputs": [],
   "source": [
    "# Initialize the K-fold cross validation object\n",
    "#kfold = KFold(n_splits=5, shuffle=True, random_state=42)"
   ]
  },
  {
   "cell_type": "code",
   "execution_count": 63,
   "id": "4f8c834e",
   "metadata": {},
   "outputs": [
    {
     "data": {
      "text/plain": [
       "\"\\nparams={'n_estimators': [100, 200, 300],\\n    'max_depth': [3, 5, 7],'learning_rate': [0.1,0.2,0.3],'min_child_weight':[2,3,4]\\n                    }#max_depth': [3, 5, 7],'min_child_weight':[2,3,4] kullanılmıyo belki dedi\\n                    \""
      ]
     },
     "execution_count": 63,
     "metadata": {},
     "output_type": "execute_result"
    }
   ],
   "source": [
    "\"\"\"\n",
    "params={'n_estimators': [100, 200, 300],\n",
    "    'max_depth': [3, 5, 7],'learning_rate': [0.1,0.2,0.3],'min_child_weight':[2,3,4]\n",
    "                    }#max_depth': [3, 5, 7],'min_child_weight':[2,3,4] kullanılmıyo belki dedi\n",
    "                    \"\"\""
   ]
  },
  {
   "cell_type": "code",
   "execution_count": 64,
   "id": "d1392df9",
   "metadata": {},
   "outputs": [
    {
     "data": {
      "text/plain": [
       "\"\\nparams2={'learning_rate': [0.4,0.5,0.6],\\n'n_estimators': [100, 200, 300],'gamma':[0.7,1.1,1.9]} #gamma kullanılmıyo belki dedi \\n\""
      ]
     },
     "execution_count": 64,
     "metadata": {},
     "output_type": "execute_result"
    }
   ],
   "source": [
    "\"\"\"\n",
    "params2={'learning_rate': [0.4,0.5,0.6],\n",
    "'n_estimators': [100, 200, 300],'gamma':[0.7,1.1,1.9]} #gamma kullanılmıyo belki dedi \n",
    "\"\"\""
   ]
  },
  {
   "cell_type": "code",
   "execution_count": 65,
   "id": "950f6c97",
   "metadata": {},
   "outputs": [
    {
     "data": {
      "text/plain": [
       "\"\\nparams4={'learning_rate': [0.4,0.5,0.6],\\n'n_estimators': [100, 200, 300], 'early_stopping_rounds':[50]} #bu hiç çalışmadı\\n\""
      ]
     },
     "execution_count": 65,
     "metadata": {},
     "output_type": "execute_result"
    }
   ],
   "source": [
    "\"\"\"\n",
    "params4={'learning_rate': [0.4,0.5,0.6],\n",
    "'n_estimators': [100, 200, 300], 'early_stopping_rounds':[50]} #bu hiç çalışmadı\n",
    "\"\"\""
   ]
  },
  {
   "cell_type": "code",
   "execution_count": 66,
   "id": "7bd21d69",
   "metadata": {},
   "outputs": [
    {
     "data": {
      "text/plain": [
       "\"\\nparams5={'learning_rate': [0.01,0.02,0.03,0.04,0.07,0.1,0.2],\\n'n_estimators': [100, 200, 300,400,500,550,600]} # galiba bu fena denk gelmedi,ama nası pek bi fikrim yok\\n\""
      ]
     },
     "execution_count": 66,
     "metadata": {},
     "output_type": "execute_result"
    }
   ],
   "source": [
    "\"\"\"\n",
    "params5={'learning_rate': [0.01,0.02,0.03,0.04,0.07,0.1,0.2],\n",
    "'n_estimators': [100, 200, 300,400,500,550,600]} # galiba bu fena denk gelmedi,ama nası pek bi fikrim yok\n",
    "\"\"\""
   ]
  },
  {
   "cell_type": "code",
   "execution_count": 67,
   "id": "99da6c27",
   "metadata": {},
   "outputs": [
    {
     "data": {
      "text/plain": [
       "\"\\nparams6={'learning_rate': [0.07,0.1,0.11,0.12,0.2],\\n'n_estimators': [20,35,45,50,90]} # galiba bu fena denk gelmedi,ama nası pek bi fikrim yok.dartta baya iyi aldık sonucunu.gblinear de iyi\\n\""
      ]
     },
     "execution_count": 67,
     "metadata": {},
     "output_type": "execute_result"
    }
   ],
   "source": [
    "\"\"\"\n",
    "params6={'learning_rate': [0.07,0.1,0.11,0.12,0.2],\n",
    "'n_estimators': [20,35,45,50,90]} # galiba bu fena denk gelmedi,ama nası pek bi fikrim yok.dartta baya iyi aldık sonucunu.gblinear de iyi\n",
    "\"\"\""
   ]
  },
  {
   "cell_type": "code",
   "execution_count": 68,
   "id": "3cbd9bea",
   "metadata": {},
   "outputs": [
    {
     "data": {
      "text/plain": [
       "\"\\nparams7={'learning_rate': [0.1,0.11,0.12,0.2,0.3],\\n'n_estimators': [180,300,450],'max_depth': [3, 4,5, 7],'min_child_weight':[4]} # GBTree içingaliba bu fena denk gelmedi,ama nası pek bi fikrim yok.dartta baya iyi aldık sonucunu.gblinear de iyi\\n\""
      ]
     },
     "execution_count": 68,
     "metadata": {},
     "output_type": "execute_result"
    }
   ],
   "source": [
    "\"\"\"\n",
    "params7={'learning_rate': [0.1,0.11,0.12,0.2,0.3],\n",
    "'n_estimators': [180,300,450],'max_depth': [3, 4,5, 7],'min_child_weight':[4]} # GBTree içingaliba bu fena denk gelmedi,ama nası pek bi fikrim yok.dartta baya iyi aldık sonucunu.gblinear de iyi\n",
    "\"\"\""
   ]
  },
  {
   "cell_type": "code",
   "execution_count": 69,
   "id": "3b0698fe",
   "metadata": {},
   "outputs": [
    {
     "data": {
      "text/plain": [
       "\"\\nparams3={'learning_rate': [0.1,0.2,0.3],\\n        'max_depth':[4,5,6],\\n                    'min_child_weight':[4],\\n                    'subsample':[.8],\\n                    'colsample_bytree':[0.8],\\n                    'colsample_bylevel':[0.8],\\n                    'colsample_bynode':[0.6],\\n                    'n_estimators':[50]}\\n\""
      ]
     },
     "execution_count": 69,
     "metadata": {},
     "output_type": "execute_result"
    }
   ],
   "source": [
    "\"\"\"\n",
    "params3={'learning_rate': [0.1,0.2,0.3],\n",
    "        'max_depth':[4,5,6],\n",
    "                    'min_child_weight':[4],\n",
    "                    'subsample':[.8],\n",
    "                    'colsample_bytree':[0.8],\n",
    "                    'colsample_bylevel':[0.8],\n",
    "                    'colsample_bynode':[0.6],\n",
    "                    'n_estimators':[50]}\n",
    "\"\"\""
   ]
  },
  {
   "cell_type": "code",
   "execution_count": 70,
   "id": "6dc93fe7",
   "metadata": {},
   "outputs": [
    {
     "data": {
      "text/plain": [
       "\"\\ngrid_search = GridSearchCV(model,params,cv=kfold,scoring='neg_mean_absolute_error')\\n\""
      ]
     },
     "execution_count": 70,
     "metadata": {},
     "output_type": "execute_result"
    }
   ],
   "source": [
    "\"\"\"\n",
    "grid_search = GridSearchCV(model,params,cv=kfold,scoring='neg_mean_absolute_error')\n",
    "\"\"\""
   ]
  },
  {
   "cell_type": "code",
   "execution_count": 71,
   "id": "9c5286a1",
   "metadata": {},
   "outputs": [
    {
     "data": {
      "text/plain": [
       "' \\ngrid_search.fit(X, y)\\n'"
      ]
     },
     "execution_count": 71,
     "metadata": {},
     "output_type": "execute_result"
    }
   ],
   "source": [
    "\"\"\" \n",
    "grid_search.fit(X, y)\n",
    "\"\"\""
   ]
  },
  {
   "cell_type": "code",
   "execution_count": 72,
   "id": "6445f40e",
   "metadata": {},
   "outputs": [
    {
     "data": {
      "text/plain": [
       "'\\n# Print the best hyperparameters\\nprint(grid_search.best_params_)\\n'"
      ]
     },
     "execution_count": 72,
     "metadata": {},
     "output_type": "execute_result"
    }
   ],
   "source": [
    "\"\"\"\n",
    "# Print the best hyperparameters\n",
    "print(grid_search.best_params_)\n",
    "\"\"\""
   ]
  },
  {
   "cell_type": "code",
   "execution_count": 73,
   "id": "122ca53a",
   "metadata": {},
   "outputs": [],
   "source": [
    "\n",
    "#bunun benzeri böle bi fonksyion yazıp bakarsam çok daha sağlıklı olacak sonuç şuan biraz körlemesine gidiyorum.Bu şuan çalışıyo\n",
    "def defgrid_search(params, reg=xgb.XGBRegressor(booster='gbtree') ):#,objective='reg:linear' ,booster='dart',booster='gblinear'\n",
    "    grid_reg = GridSearchCV(reg, params, scoring='neg_mean_squared_error', cv=kfold)\n",
    "    grid_reg.fit(X, y)\n",
    "    best_params = grid_reg.best_params_\n",
    "    print(\"Best params:\", best_params)\n",
    "    best_score = np.sqrt(-grid_reg.best_score_)\n",
    "    print(\"Best score:\", best_score)"
   ]
  },
  {
   "cell_type": "code",
   "execution_count": 74,
   "id": "db122142",
   "metadata": {},
   "outputs": [],
   "source": [
    "#defgrid_search(params)"
   ]
  },
  {
   "cell_type": "code",
   "execution_count": 75,
   "id": "51240cd9",
   "metadata": {},
   "outputs": [],
   "source": [
    "#defgrid_search(params2)"
   ]
  },
  {
   "cell_type": "code",
   "execution_count": 76,
   "id": "d4d3a74b",
   "metadata": {},
   "outputs": [],
   "source": [
    "#defgrid_search(params4)"
   ]
  },
  {
   "cell_type": "code",
   "execution_count": 77,
   "id": "634152d1",
   "metadata": {
    "scrolled": true
   },
   "outputs": [],
   "source": [
    "#defgrid_search(params5) "
   ]
  },
  {
   "cell_type": "code",
   "execution_count": 78,
   "id": "15c4886f",
   "metadata": {},
   "outputs": [],
   "source": [
    "#defgrid_search(params6) #using dart"
   ]
  },
  {
   "cell_type": "code",
   "execution_count": 79,
   "id": "7a1a9b36",
   "metadata": {},
   "outputs": [],
   "source": [
    "#defgrid_search(params6) #using gbtree"
   ]
  },
  {
   "cell_type": "code",
   "execution_count": 80,
   "id": "229d6416",
   "metadata": {},
   "outputs": [],
   "source": [
    "#defgrid_search(params7) #using gbtree  .ŞUANA KADARKİLER ARASINDA EN İYİSİ\n",
    "\n",
    "#Best params: {'learning_rate': 0.2, 'max_depth': 3, 'min_child_weight': 4, 'n_estimators': 450}\n",
    "#Best score: 209319.63154222278\n",
    "#"
   ]
  },
  {
   "cell_type": "markdown",
   "id": "5508a742",
   "metadata": {},
   "source": [
    "Best params: {'learning_rate': 0.2, 'max_depth': 3, 'min_child_weight': 4, 'n_estimators': 450}\n",
    "Best score: 209319.63154222278 #using gbtree  .ŞUANA KADARKİLER ARASINDA EN İYİSİ"
   ]
  },
  {
   "cell_type": "markdown",
   "id": "4e8eb9ac",
   "metadata": {},
   "source": [
    "Best params: {'learning_rate': 0.2, 'max_depth': 3, 'n_estimators': 450}\n",
    "Best score: 221512.51871144684#using gbtree  .ŞUANA KADARKİLER ARASINDA EN İYİSİ"
   ]
  },
  {
   "cell_type": "markdown",
   "id": "14eb691b",
   "metadata": {},
   "source": [
    "Best params: {'learning_rate': 0.2, 'n_estimators': 600}\n",
    "Best score: 285517.47981090157#using linear"
   ]
  },
  {
   "cell_type": "markdown",
   "id": "9a8d920c",
   "metadata": {},
   "source": [
    "Best params: {'learning_rate': 0.1, 'n_estimators': 550}\n",
    "Best score: 288160.2869128058#using linear"
   ]
  },
  {
   "cell_type": "markdown",
   "id": "4ecaf23a",
   "metadata": {},
   "source": [
    "Best params: {'learning_rate': 0.07, 'n_estimators': 500}\n",
    "Best score: 291851.7967830433#using linear"
   ]
  },
  {
   "cell_type": "markdown",
   "id": "718cca1e",
   "metadata": {},
   "source": [
    "Best params: {'learning_rate': 0.03, 'n_estimators': 300}\n",
    "Best score: 306281.57608315884#using linear"
   ]
  },
  {
   "cell_type": "code",
   "execution_count": 81,
   "id": "68f0311a",
   "metadata": {},
   "outputs": [],
   "source": [
    "final_model = xgb.XGBRegressor(learning_rate= 0.2,max_depth = 3, min_child_weight = 4, n_estimators =450,booster='gbtree')"
   ]
  },
  {
   "cell_type": "code",
   "execution_count": 82,
   "id": "5c8bfba0",
   "metadata": {},
   "outputs": [
    {
     "data": {
      "text/html": [
       "<style>#sk-container-id-2 {color: black;background-color: white;}#sk-container-id-2 pre{padding: 0;}#sk-container-id-2 div.sk-toggleable {background-color: white;}#sk-container-id-2 label.sk-toggleable__label {cursor: pointer;display: block;width: 100%;margin-bottom: 0;padding: 0.3em;box-sizing: border-box;text-align: center;}#sk-container-id-2 label.sk-toggleable__label-arrow:before {content: \"▸\";float: left;margin-right: 0.25em;color: #696969;}#sk-container-id-2 label.sk-toggleable__label-arrow:hover:before {color: black;}#sk-container-id-2 div.sk-estimator:hover label.sk-toggleable__label-arrow:before {color: black;}#sk-container-id-2 div.sk-toggleable__content {max-height: 0;max-width: 0;overflow: hidden;text-align: left;background-color: #f0f8ff;}#sk-container-id-2 div.sk-toggleable__content pre {margin: 0.2em;color: black;border-radius: 0.25em;background-color: #f0f8ff;}#sk-container-id-2 input.sk-toggleable__control:checked~div.sk-toggleable__content {max-height: 200px;max-width: 100%;overflow: auto;}#sk-container-id-2 input.sk-toggleable__control:checked~label.sk-toggleable__label-arrow:before {content: \"▾\";}#sk-container-id-2 div.sk-estimator input.sk-toggleable__control:checked~label.sk-toggleable__label {background-color: #d4ebff;}#sk-container-id-2 div.sk-label input.sk-toggleable__control:checked~label.sk-toggleable__label {background-color: #d4ebff;}#sk-container-id-2 input.sk-hidden--visually {border: 0;clip: rect(1px 1px 1px 1px);clip: rect(1px, 1px, 1px, 1px);height: 1px;margin: -1px;overflow: hidden;padding: 0;position: absolute;width: 1px;}#sk-container-id-2 div.sk-estimator {font-family: monospace;background-color: #f0f8ff;border: 1px dotted black;border-radius: 0.25em;box-sizing: border-box;margin-bottom: 0.5em;}#sk-container-id-2 div.sk-estimator:hover {background-color: #d4ebff;}#sk-container-id-2 div.sk-parallel-item::after {content: \"\";width: 100%;border-bottom: 1px solid gray;flex-grow: 1;}#sk-container-id-2 div.sk-label:hover label.sk-toggleable__label {background-color: #d4ebff;}#sk-container-id-2 div.sk-serial::before {content: \"\";position: absolute;border-left: 1px solid gray;box-sizing: border-box;top: 0;bottom: 0;left: 50%;z-index: 0;}#sk-container-id-2 div.sk-serial {display: flex;flex-direction: column;align-items: center;background-color: white;padding-right: 0.2em;padding-left: 0.2em;position: relative;}#sk-container-id-2 div.sk-item {position: relative;z-index: 1;}#sk-container-id-2 div.sk-parallel {display: flex;align-items: stretch;justify-content: center;background-color: white;position: relative;}#sk-container-id-2 div.sk-item::before, #sk-container-id-2 div.sk-parallel-item::before {content: \"\";position: absolute;border-left: 1px solid gray;box-sizing: border-box;top: 0;bottom: 0;left: 50%;z-index: -1;}#sk-container-id-2 div.sk-parallel-item {display: flex;flex-direction: column;z-index: 1;position: relative;background-color: white;}#sk-container-id-2 div.sk-parallel-item:first-child::after {align-self: flex-end;width: 50%;}#sk-container-id-2 div.sk-parallel-item:last-child::after {align-self: flex-start;width: 50%;}#sk-container-id-2 div.sk-parallel-item:only-child::after {width: 0;}#sk-container-id-2 div.sk-dashed-wrapped {border: 1px dashed gray;margin: 0 0.4em 0.5em 0.4em;box-sizing: border-box;padding-bottom: 0.4em;background-color: white;}#sk-container-id-2 div.sk-label label {font-family: monospace;font-weight: bold;display: inline-block;line-height: 1.2em;}#sk-container-id-2 div.sk-label-container {text-align: center;}#sk-container-id-2 div.sk-container {/* jupyter's `normalize.less` sets `[hidden] { display: none; }` but bootstrap.min.css set `[hidden] { display: none !important; }` so we also need the `!important` here to be able to override the default hidden behavior on the sphinx rendered scikit-learn.org. See: https://github.com/scikit-learn/scikit-learn/issues/21755 */display: inline-block !important;position: relative;}#sk-container-id-2 div.sk-text-repr-fallback {display: none;}</style><div id=\"sk-container-id-2\" class=\"sk-top-container\"><div class=\"sk-text-repr-fallback\"><pre>XGBRegressor(base_score=0.5, booster=&#x27;gbtree&#x27;, callbacks=None,\n",
       "             colsample_bylevel=1, colsample_bynode=1, colsample_bytree=1,\n",
       "             early_stopping_rounds=None, enable_categorical=False,\n",
       "             eval_metric=None, gamma=0, gpu_id=-1, grow_policy=&#x27;depthwise&#x27;,\n",
       "             importance_type=None, interaction_constraints=&#x27;&#x27;,\n",
       "             learning_rate=0.2, max_bin=256, max_cat_to_onehot=4,\n",
       "             max_delta_step=0, max_depth=3, max_leaves=0, min_child_weight=4,\n",
       "             missing=nan, monotone_constraints=&#x27;()&#x27;, n_estimators=450, n_jobs=0,\n",
       "             num_parallel_tree=1, predictor=&#x27;auto&#x27;, random_state=0, reg_alpha=0,\n",
       "             reg_lambda=1, ...)</pre><b>In a Jupyter environment, please rerun this cell to show the HTML representation or trust the notebook. <br />On GitHub, the HTML representation is unable to render, please try loading this page with nbviewer.org.</b></div><div class=\"sk-container\" hidden><div class=\"sk-item\"><div class=\"sk-estimator sk-toggleable\"><input class=\"sk-toggleable__control sk-hidden--visually\" id=\"sk-estimator-id-2\" type=\"checkbox\" checked><label for=\"sk-estimator-id-2\" class=\"sk-toggleable__label sk-toggleable__label-arrow\">XGBRegressor</label><div class=\"sk-toggleable__content\"><pre>XGBRegressor(base_score=0.5, booster=&#x27;gbtree&#x27;, callbacks=None,\n",
       "             colsample_bylevel=1, colsample_bynode=1, colsample_bytree=1,\n",
       "             early_stopping_rounds=None, enable_categorical=False,\n",
       "             eval_metric=None, gamma=0, gpu_id=-1, grow_policy=&#x27;depthwise&#x27;,\n",
       "             importance_type=None, interaction_constraints=&#x27;&#x27;,\n",
       "             learning_rate=0.2, max_bin=256, max_cat_to_onehot=4,\n",
       "             max_delta_step=0, max_depth=3, max_leaves=0, min_child_weight=4,\n",
       "             missing=nan, monotone_constraints=&#x27;()&#x27;, n_estimators=450, n_jobs=0,\n",
       "             num_parallel_tree=1, predictor=&#x27;auto&#x27;, random_state=0, reg_alpha=0,\n",
       "             reg_lambda=1, ...)</pre></div></div></div></div></div>"
      ],
      "text/plain": [
       "XGBRegressor(base_score=0.5, booster='gbtree', callbacks=None,\n",
       "             colsample_bylevel=1, colsample_bynode=1, colsample_bytree=1,\n",
       "             early_stopping_rounds=None, enable_categorical=False,\n",
       "             eval_metric=None, gamma=0, gpu_id=-1, grow_policy='depthwise',\n",
       "             importance_type=None, interaction_constraints='',\n",
       "             learning_rate=0.2, max_bin=256, max_cat_to_onehot=4,\n",
       "             max_delta_step=0, max_depth=3, max_leaves=0, min_child_weight=4,\n",
       "             missing=nan, monotone_constraints='()', n_estimators=450, n_jobs=0,\n",
       "             num_parallel_tree=1, predictor='auto', random_state=0, reg_alpha=0,\n",
       "             reg_lambda=1, ...)"
      ]
     },
     "execution_count": 82,
     "metadata": {},
     "output_type": "execute_result"
    }
   ],
   "source": [
    "final_model.fit(X_train,y_train)"
   ]
  },
  {
   "cell_type": "code",
   "execution_count": 83,
   "id": "b1d7d582",
   "metadata": {},
   "outputs": [],
   "source": [
    "# Make predictions using the model\n",
    "predictions = final_model.predict(X_test) #pred = xgbr.predict(X_test.values) burda böle yapmışız"
   ]
  },
  {
   "cell_type": "code",
   "execution_count": 84,
   "id": "86a66e99",
   "metadata": {},
   "outputs": [
    {
     "data": {
      "text/plain": [
       "array([ 489456.53,  938656.2 ,  655212.7 , 1054413.6 ,  622020.94,\n",
       "        377048.22,  383957.22,  449649.72,  603006.75,  790776.1 ,\n",
       "        516570.1 , 1387070.1 ,  417909.53,  557825.5 ,  645539.  ,\n",
       "        348523.88,  469375.1 ,  880574.9 ,  506489.84,  493818.06,\n",
       "        451825.47,  795123.44,  589682.8 ,  789024.5 ,  224313.3 ,\n",
       "        587214.5 ,  447828.34,  430263.84,  612872.9 ,  488192.53,\n",
       "        527294.94,  578070.5 ,  391337.22,  433932.3 ,  855817.06,\n",
       "        815461.4 ,  784030.2 ,  598774.25,  424235.2 ,  543531.6 ,\n",
       "        433780.78,  748517.2 ,  948920.75,  451147.47,  590736.75,\n",
       "        678325.6 ,  702791.5 ,  459066.28, 1029487.3 ,  452944.25,\n",
       "        435246.25,  759881.75,  786150.8 ,  579549.9 ,  442740.5 ,\n",
       "        847836.25,  489356.22,  848537.1 ,  954560.5 ,  366959.75,\n",
       "        611461.94,  633946.75,  411034.22,  311729.78, 1126895.2 ,\n",
       "       1120291.4 ,  607576.5 ,  468122.97,  329221.56, 2127114.5 ,\n",
       "        957425.94,  529148.56,  482048.84,  700506.2 ,  742699.7 ,\n",
       "       1297181.2 ,  815461.4 ,  757191.25,  557637.56,  813439.4 ,\n",
       "        806177.4 ,  815461.4 ,  708016.9 ,  414151.62,  553974.4 ,\n",
       "        569357.94,  391337.22,  680710.6 , 1766048.9 , 2675684.5 ,\n",
       "        935161.56,  676387.2 , 1038858.3 ,  430592.62,  380747.97,\n",
       "        454178.22,  677938.7 ,  642166.44,  447525.44,  555074.6 ,\n",
       "        752384.3 ,  522498.2 ,  441456.56,  407571.8 ,  371249.38,\n",
       "        653288.44,  832215.56,  573696.  ,  605621.8 ,  834787.9 ,\n",
       "        529040.8 ,  544714.7 ,  767894.44,  978446.56, 1099015.5 ,\n",
       "        466082.94,  614071.2 ,  784030.06,  689944.  ,  867815.1 ,\n",
       "        837673.56, 1041993.8 ,  329414.38,  533369.94,  713171.1 ,\n",
       "        371393.34,  782373.06,  621729.  ,  440337.38,  437926.5 ,\n",
       "        432715.34,  253443.33, 1029116.3 ,  929019.25, 1445010.9 ,\n",
       "        573696.  ,  799770.6 ,  436106.16,  703170.6 ,  588654.3 ,\n",
       "        376670.1 ,  889548.7 ,  359654.12, 1164211.6 ,  853094.1 ,\n",
       "       1114504.6 ,  265523.7 ,  638982.4 ,  670587.2 ,  511129.5 ,\n",
       "        463157.16,  749542.7 ,  495625.84,  471001.78,  422598.94,\n",
       "        838269.1 ,  844283.1 , 1123660.4 ,  741135.1 ,  823828.06,\n",
       "        841884.56, 2742316.  ,  602263.  ,  350005.9 ,  944073.1 ,\n",
       "        447828.34,  561997.94,  674779.5 ,  692510.9 ,  463946.4 ,\n",
       "        481239.9 ,  588100.94, 1125350.8 ,  409123.9 , 2596839.2 ,\n",
       "        650454.4 ,  589845.06,  516570.1 , 1741641.8 ,  640128.6 ,\n",
       "        489689.66,  765487.  ,  599949.06,  797710.44,  608605.4 ,\n",
       "        463590.78,  519754.03,  873541.2 ,  689441.2 ,  540896.7 ,\n",
       "        424634.44,  815461.4 ,  457580.2 ,  513889.3 ,  476889.78,\n",
       "        563473.8 ,  430790.34, 1627382.2 ,  688733.06,  804345.94,\n",
       "        939125.75,  933821.6 ,  441981.25,  815461.4 ,  393235.6 ,\n",
       "        602098.9 ,  645111.2 ,  506665.12, 1149770.2 ,  985033.9 ,\n",
       "        557118.3 , 1588448.8 ,  857307.94,  768623.75,  560142.3 ,\n",
       "        537700.94,  642624.44,  802866.44,  589598.1 ,  708529.56,\n",
       "        405885.7 ,  313289.38,  885082.6 ,  544714.7 ,  651430.94,\n",
       "        469994.9 ,  565531.3 ,  494305.78,  656236.94,  676387.2 ,\n",
       "        677136.44,  543531.6 ,  944073.1 , 1043509.2 ,  328665.72,\n",
       "       1050062.  ,  503496.62,  329221.56,  493852.84,  833349.8 ,\n",
       "        448366.94,  617981.9 ,  435246.25,  602742.2 ,  370492.28,\n",
       "        906880.4 ,  428049.94,  568728.7 ,  482090.03,  891752.7 ,\n",
       "        447560.78, 1025849.5 , 1011698.25,  506489.84,  342430.47,\n",
       "       1027275.7 ,  964961.9 ,  398118.66,  736355.1 , 2699845.2 ,\n",
       "        914223.94,  920095.44,  634140.7 ,  620575.94,  887016.25,\n",
       "        690102.1 ,  873410.8 ,  656963.75,  660274.56, 1192965.9 ,\n",
       "        721252.56,  531381.75,  574328.25,  440337.38,  928581.9 ,\n",
       "        666069.56,  464182.2 ,  360897.12,  829724.9 ,  539869.56,\n",
       "        498125.4 ,  383442.8 ,  543764.  ,  465451.5 ,  814980.75,\n",
       "        437521.53,  641264.44,  656073.75,  552413.25,  782373.06,\n",
       "        387202.75,  590094.4 ,  447828.34, 1667970.9 , 1134737.9 ,\n",
       "       1654429.1 ,  487117.16,  535261.7 ,  472932.25,  868581.75,\n",
       "        506489.84,  841275.1 , 1437369.5 , 1365723.1 ], dtype=float32)"
      ]
     },
     "execution_count": 84,
     "metadata": {},
     "output_type": "execute_result"
    }
   ],
   "source": [
    "predictions"
   ]
  },
  {
   "cell_type": "markdown",
   "id": "b1611611",
   "metadata": {},
   "source": [
    "# Succes metrics"
   ]
  },
  {
   "cell_type": "code",
   "execution_count": 85,
   "id": "f8f5b84c",
   "metadata": {},
   "outputs": [
    {
     "name": "stdout",
     "output_type": "stream",
     "text": [
      "MSE: 16738778014.85\n",
      "RMSE: 129378.43\n",
      "R2: 0.888897599764878\n"
     ]
    }
   ],
   "source": [
    "from sklearn.metrics import mean_squared_error as MSE\n",
    "from sklearn.metrics import r2_score\n",
    "\n",
    "mse = MSE(y_test, predictions)#y_test\n",
    "r2 = r2_score(y_test, predictions)#y_test\n",
    "\n",
    "print(\"MSE: %.2f\" % mse)\n",
    "print(\"RMSE: %.2f\" % (mse**(1/2.0)))\n",
    "print(f\"R2: {r2}\")"
   ]
  },
  {
   "cell_type": "code",
   "execution_count": 86,
   "id": "0b4528b7",
   "metadata": {},
   "outputs": [
    {
     "data": {
      "image/png": "[encoded data removed]",
      "text/plain": [
       "<Figure size 640x480 with 1 Axes>"
      ]
     },
     "metadata": {},
     "output_type": "display_data"
    }
   ],
   "source": [
    "import matplotlib.pyplot as plt\n",
    "colors = ['red' if real == predicted else 'blue' for real, predicted in zip(y_test, predictions)]\n",
    "\n",
    "# Plot the real values and predicted values using the colors list\n",
    "plt.scatter(y_test, predictions, color=colors)\n",
    "\n",
    "# Add labels to the x-axis and y-axis\n",
    "plt.xlabel('Real values')\n",
    "plt.ylabel('Predicted values')\n",
    "\n",
    "# Show the plot\n",
    "plt.show()"
   ]
  },
  {
   "cell_type": "code",
   "execution_count": 87,
   "id": "9c34be9d",
   "metadata": {},
   "outputs": [
    {
     "data": {
      "image/png": "[encoded data removed]",
      "text/plain": [
       "<Figure size 640x480 with 1 Axes>"
      ]
     },
     "metadata": {},
     "output_type": "display_data"
    }
   ],
   "source": [
    "# Calculate the residuals (real values - predicted values)\n",
    "residuals = y_test - predictions\n",
    "\n",
    "# Plot the residuals\n",
    "plt.scatter(y_test, residuals)\n",
    "plt.axhline(y=0, color='red', linestyle='-')\n",
    "\n",
    "# Add labels to the x-axis and y-axis\n",
    "plt.xlabel('Real values')\n",
    "plt.ylabel('Residuals')\n",
    "\n",
    "# Show the plot\n",
    "plt.show()"
   ]
  },
  {
   "cell_type": "code",
   "execution_count": 88,
   "id": "8d18385d",
   "metadata": {
    "scrolled": true
   },
   "outputs": [
    {
     "data": {
      "application/vnd.jupyter.widget-view+json": {
       "model_id": "e7d42b9acbcc40ac9b6f64b87484d673"
      },
      "text/plain": [
       "      Marka_Model_0  Marka_Model_1  Marka_Model_2  Marka_Model_3  \\\n",
       "0                 0              0              0              0   \n",
       "1                 0              0              0              0   \n",
       "2                 0              0              0              0   \n",
       "3                 0              0              0              0   \n",
       "4                 0              0              0              0   \n",
       "...             ...            ...            ...            ...   \n",
       "1512              0              0              0              0   \n",
       "1513              0              0              0              0   \n",
       "1514              0              0              0              0   \n",
       "1515              0              0              0              0   \n",
       "1516              0              0              0              0   \n",
       "\n",
       "      Marka_Model_4  Marka_Model_5  Marka_Model_6  Marka_Model_7    Hiz  \\\n",
       "0                 0              0              0              1  170.0   \n",
       "1                 0              0              0              1  175.0   \n",
       "2                 0              0              0              1  175.0   \n",
       "3                 0              0              0              1  185.0   \n",
       "4                 0              0              0              1  187.0   \n",
       "...             ...            ...            ...            ...    ...   \n",
       "1512              0              0              0              1  175.0   \n",
       "1513              0              0              0              1  170.0   \n",
       "1514              0              0              0              1  175.0   \n",
       "1515              0              0              0              1  175.0   \n",
       "1516              0              0              0              1  170.0   \n",
       "\n",
       "      MaxTork  ...  Kasa_Tipi_Wagon  Sanziman  Model_Yili  \\\n",
       "0        95.0  ...                0         0          14   \n",
       "1       230.0  ...                0         0          14   \n",
       "2       230.0  ...                0         0          14   \n",
       "3       250.0  ...                0         1          14   \n",
       "4       175.0  ...                0         1          14   \n",
       "...       ...  ...              ...       ...         ...   \n",
       "1512    230.0  ...                0         0          14   \n",
       "1513     95.0  ...                0         0          14   \n",
       "1514    230.0  ...                0         0          14   \n",
       "1515    230.0  ...                0         0          14   \n",
       "1516     95.0  ...                0         0          14   \n",
       "\n",
       "      Konum_Akdeniz Bölgesi  Konum_Ege Bölgesi  \\\n",
       "0                         1                  0   \n",
       "1                         0                  0   \n",
       "2                         0                  0   \n",
       "3                         0                  0   \n",
       "4                         0                  0   \n",
       "...                     ...                ...   \n",
       "1512                      0                  0   \n",
       "1513                      0                  0   \n",
       "1514                      0                  0   \n",
       "1515                      0                  1   \n",
       "1516                      0                  0   \n",
       "\n",
       "      Konum_GüneyDoğu Anadolu Bölgesi  Konum_Karadeniz Bölgesi  \\\n",
       "0                                   0                        0   \n",
       "1                                   0                        0   \n",
       "2                                   0                        1   \n",
       "3                                   0                        0   \n",
       "4                                   0                        0   \n",
       "...                               ...                      ...   \n",
       "1512                                0                        0   \n",
       "1513                                0                        0   \n",
       "1514                                0                        0   \n",
       "1515                                0                        0   \n",
       "1516                                0                        0   \n",
       "\n",
       "      Konum_Marmara Bölgesi  Konum_İç Anadolu Bölgesi   Fiyat  \n",
       "0                         0                         0  400000  \n",
       "1                         1                         0  411500  \n",
       "2                         0                         0  415000  \n",
       "3                         1                         0  445000  \n",
       "4                         1                         0  450000  \n",
       "...                     ...                       ...     ...  \n",
       "1512                      1                         0  387500  \n",
       "1513                      1                         0  390000  \n",
       "1514                      1                         0  394500  \n",
       "1515                      0                         0  395000  \n",
       "1516                      1                         0  400000  \n",
       "\n",
       "[1516 rows x 76 columns]"
      ]
     },
     "metadata": {},
     "output_type": "display_data"
    }
   ],
   "source": [
    "df"
   ]
  },
  {
   "cell_type": "code",
   "execution_count": 89,
   "id": "968cd145",
   "metadata": {},
   "outputs": [],
   "source": [
    "#tamamını eğittim ya modeli şimdi direk üzerinde deneyecem\n",
    "new_pred =final_model.predict(X) "
   ]
  },
  {
   "cell_type": "code",
   "execution_count": 90,
   "id": "9c1fad37",
   "metadata": {},
   "outputs": [
    {
     "data": {
      "text/plain": [
       "array([427927.8 , 391702.06, 411034.22, ..., 387202.75, 416316.75,\n",
       "       377700.34], dtype=float32)"
      ]
     },
     "execution_count": 90,
     "metadata": {},
     "output_type": "execute_result"
    }
   ],
   "source": [
    "new_pred"
   ]
  },
  {
   "cell_type": "code",
   "execution_count": 91,
   "id": "d2f317e3",
   "metadata": {},
   "outputs": [
    {
     "data": {
      "image/png": "[encoded data removed]",
      "text/plain": [
       "<Figure size 640x480 with 1 Axes>"
      ]
     },
     "metadata": {},
     "output_type": "display_data"
    }
   ],
   "source": [
    "#ake a dataframe with the real values and the predicted values\n",
    "import seaborn as sns\n",
    "y = y.astype(float)\n",
    "df8 = pd.DataFrame({'real': y, 'predicted': new_pred})\n",
    "\n",
    "# Use seaborn to plot a scatterplot with a regression line and dots\n",
    "sns.regplot(x='real', y='predicted', data=df8,scatter_kws={'color': 'blue'},line_kws={'color': 'red'})\n",
    "plt.show()"
   ]
  },
  {
   "cell_type": "code",
   "execution_count": 92,
   "id": "348c51a4",
   "metadata": {},
   "outputs": [
    {
     "data": {
      "application/vnd.jupyter.widget-view+json": {
       "model_id": "1ef3e668c63e476aab0f2efa8288c64a"
      },
      "text/plain": [
       "          real     predicted\n",
       "0     400000.0  427927.81250\n",
       "1     411500.0  391702.06250\n",
       "2     415000.0  411034.21875\n",
       "3     445000.0  502702.78125\n",
       "4     450000.0  498171.15625\n",
       "...        ...           ...\n",
       "1512  387500.0  387202.75000\n",
       "1513  390000.0  386553.71875\n",
       "1514  394500.0  387202.75000\n",
       "1515  395000.0  416316.75000\n",
       "1516  400000.0  377700.34375\n",
       "\n",
       "[1516 rows x 2 columns]"
      ]
     },
     "metadata": {},
     "output_type": "display_data"
    }
   ],
   "source": [
    "df8"
   ]
  },
  {
   "cell_type": "code",
   "execution_count": 93,
   "id": "69706fd4",
   "metadata": {},
   "outputs": [],
   "source": [
    "#Bİşeyler yaptım karıştırdım ilk başta X_train_ytrain vs die bölmedim k-fold yapıyom die ama doru mu yaptım bilmiyorum oradan tam emin deilim.\n",
    "#GALİBA ŞÖLE OLUCAK: Şİmdi KFOLD İLE BEN SADECE EN EN OPTİMUM PRAMETRELERİ BULDUM ONDAN SONRAKİ EĞİTİM OLAYINDA BÖLMEM VE X_TRAİN_X_tEXT,Y_TRAİNY_TEST E GÖRE modele sokup sonrasında da denemem lazım overfitting vs var mı die artık bunu yarın yapıcam\n",
    "#BU bittikten sonra da Nasıl Streamlit e aktarıcam Joblib le mi filan oraya bi bakıcam oraları tam anlamadım."
   ]
  },
  {
   "cell_type": "markdown",
   "id": "46c159c7",
   "metadata": {},
   "source": [
    "MSE: 16738778014.85\n",
    "RMSE: 129378.43\n",
    "R2: 0.888897599764878"
   ]
  },
  {
   "cell_type": "code",
   "execution_count": 94,
   "id": "cbfdcdb0",
   "metadata": {},
   "outputs": [],
   "source": [
    "#model.save_config()"
   ]
  },
  {
   "cell_type": "code",
   "execution_count": 95,
   "id": "71889b27",
   "metadata": {},
   "outputs": [],
   "source": [
    "#Binary encoder yaptığım kısımda n salllıyorum 1000101 WV polo mı vs onu bi yere kaydetmem lazım sonra yapıcam.\n",
    "#Bde params kısmını buna göre bi  denesem daha güzel olacak sanki"
   ]
  }
 ],
 "metadata": {
  "kernelspec": {
   "display_name": "Python 3 (ipykernel)",
   "language": "python",
   "name": "python3"
  },
  "language_info": {
   "codemirror_mode": {
    "name": "ipython",
    "version": 3
   },
   "file_extension": ".py",
   "mimetype": "text/x-python",
   "name": "python",
   "nbconvert_exporter": "python",
   "pygments_lexer": "ipython3",
   "version": "3.10.6"
  }
 },
 "nbformat": 4,
 "nbformat_minor": 5
}
